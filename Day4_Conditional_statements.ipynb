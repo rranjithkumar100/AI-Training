{
  "nbformat": 4,
  "nbformat_minor": 0,
  "metadata": {
    "colab": {
      "provenance": [],
      "authorship_tag": "ABX9TyP6iN/7NMae3TqRyBrczuZf",
      "include_colab_link": true
    },
    "kernelspec": {
      "name": "python3",
      "display_name": "Python 3"
    },
    "language_info": {
      "name": "python"
    }
  },
  "cells": [
    {
      "cell_type": "markdown",
      "metadata": {
        "id": "view-in-github",
        "colab_type": "text"
      },
      "source": [
        "<a href=\"https://colab.research.google.com/github/rranjithkumar100/AI-Training/blob/main/Day4_Conditional_statements.ipynb\" target=\"_parent\"><img src=\"https://colab.research.google.com/assets/colab-badge.svg\" alt=\"Open In Colab\"/></a>"
      ]
    },
    {
      "cell_type": "code",
      "execution_count": 1,
      "metadata": {
        "colab": {
          "base_uri": "https://localhost:8080/"
        },
        "id": "AIuexgEkau_w",
        "outputId": "8db845f8-11ef-4fc7-a331-7e92bbc00389"
      },
      "outputs": [
        {
          "output_type": "stream",
          "name": "stdout",
          "text": [
            "You are eligible to vote\n"
          ]
        }
      ],
      "source": [
        "# If statement\n",
        "\n",
        "age = 19\n",
        "\n",
        "if(age>=18):\n",
        "    print(\"You are eligible to vote\")\n",
        "else:\n",
        "    print(\"You are not eligible to vote\")"
      ]
    },
    {
      "cell_type": "code",
      "source": [
        "# if, else if\n",
        "age = input(\"Enter your age: \")\n",
        "age = int(age)\n",
        "if(age>=60):\n",
        "    print(\"Senior citizen\")\n",
        "elif(age>=18):\n",
        "    print(\"Adult\")\n",
        "elif(age>=13):\n",
        "    print(\"Teenager\")\n",
        "else:\n",
        "    print(\"Child\")"
      ],
      "metadata": {
        "colab": {
          "base_uri": "https://localhost:8080/"
        },
        "id": "5T6gGx94bUn1",
        "outputId": "3d1407bb-aec5-4701-c7b6-2d54bb54fad1"
      },
      "execution_count": 3,
      "outputs": [
        {
          "output_type": "stream",
          "name": "stdout",
          "text": [
            "Enter your age: 70\n",
            "Senior citizen\n"
          ]
        }
      ]
    },
    {
      "cell_type": "code",
      "source": [
        "# and operator\n",
        "\n",
        "age = input(\"Enter your age: \")\n",
        "age = int(age)\n",
        "haveLicense = input(\"You have driving license (YES/NO) :\")\n",
        "haveLicense = haveLicense.upper()\n",
        "if(age>=18 and haveLicense==\"YES\"):\n",
        "    print(\"You are eligible to drive\")\n",
        "else:\n",
        "    print(\"You are not eligible to drive\")"
      ],
      "metadata": {
        "colab": {
          "base_uri": "https://localhost:8080/"
        },
        "id": "tcSTUDlCbv0J",
        "outputId": "8b11399f-a2cd-41bc-b1ca-a1f52702842a"
      },
      "execution_count": 6,
      "outputs": [
        {
          "output_type": "stream",
          "name": "stdout",
          "text": [
            "Enter your age: 30\n",
            "You have driving license (YES/NO) :yes\n",
            "You are eligible to drive\n"
          ]
        }
      ]
    },
    {
      "cell_type": "code",
      "source": [
        "# or operator\n",
        "age = input(\"Enter your age: \")\n",
        "age = int(age)\n",
        "haveVoterId = input(\"You have voter ID (YES/NO) :\")\n",
        "haveVoterId = haveVoterId.upper()\n",
        "if(age>=18 or haveVoterId==\"YES\"):\n",
        "    print(\"You are eligible to vote\")\n",
        "else:\n",
        "    print(\"You are not eligible to vote\")"
      ],
      "metadata": {
        "colab": {
          "base_uri": "https://localhost:8080/"
        },
        "id": "WiRAEKgyb9L_",
        "outputId": "f0ee06bd-7e3f-48ce-d160-f2df12cce33c"
      },
      "execution_count": 7,
      "outputs": [
        {
          "output_type": "stream",
          "name": "stdout",
          "text": [
            "Enter your age: 30\n",
            "You have voter ID (YES/NO) :no\n",
            "You are eligible to vote\n"
          ]
        }
      ]
    }
  ]
}