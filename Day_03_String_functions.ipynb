{
  "nbformat": 4,
  "nbformat_minor": 0,
  "metadata": {
    "colab": {
      "provenance": [],
      "authorship_tag": "ABX9TyOYklTLLJDlUbVqJiVDGpCV",
      "include_colab_link": true
    },
    "kernelspec": {
      "name": "python3",
      "display_name": "Python 3"
    },
    "language_info": {
      "name": "python"
    }
  },
  "cells": [
    {
      "cell_type": "markdown",
      "metadata": {
        "id": "view-in-github",
        "colab_type": "text"
      },
      "source": [
        "<a href=\"https://colab.research.google.com/github/rranjithkumar100/AI-Training/blob/main/Day_3_String_functions.ipynb\" target=\"_parent\"><img src=\"https://colab.research.google.com/assets/colab-badge.svg\" alt=\"Open In Colab\"/></a>"
      ]
    },
    {
      "cell_type": "code",
      "execution_count": 1,
      "metadata": {
        "colab": {
          "base_uri": "https://localhost:8080/"
        },
        "id": "pzJzfpG4TbKx",
        "outputId": "825c1d6b-0939-4829-dffd-04b59123cdcc"
      },
      "outputs": [
        {
          "output_type": "stream",
          "name": "stdout",
          "text": [
            "RANJITH\n"
          ]
        }
      ],
      "source": [
        "# Uppercase\n",
        "\n",
        "name = \"ranjith\"\n",
        "print(name.upper())"
      ]
    },
    {
      "cell_type": "code",
      "source": [
        "# Lowercase\n",
        "\n",
        "name = \"RANJITH\"\n",
        "print(name.lower())"
      ],
      "metadata": {
        "colab": {
          "base_uri": "https://localhost:8080/"
        },
        "id": "I83k-7g_T1oc",
        "outputId": "ef81f985-c615-4361-b348-df2d1c7ac69a"
      },
      "execution_count": 3,
      "outputs": [
        {
          "output_type": "stream",
          "name": "stdout",
          "text": [
            "ranjith\n"
          ]
        }
      ]
    },
    {
      "cell_type": "code",
      "source": [
        "# captialize first letter\n",
        "\n",
        "name = \"ranjith\"\n",
        "print(name.capitalize())"
      ],
      "metadata": {
        "colab": {
          "base_uri": "https://localhost:8080/"
        },
        "id": "vlZgHoTcT2_C",
        "outputId": "bee17b30-0a25-4723-a00a-0d0316727bfb"
      },
      "execution_count": 4,
      "outputs": [
        {
          "output_type": "stream",
          "name": "stdout",
          "text": [
            "Ranjith\n"
          ]
        }
      ]
    },
    {
      "cell_type": "code",
      "source": [
        "#substring check\n",
        "\n",
        "name = \"ranjith\"\n",
        "print(name.startswith(\"ra\"))"
      ],
      "metadata": {
        "colab": {
          "base_uri": "https://localhost:8080/"
        },
        "id": "8PaGoV3wT_x_",
        "outputId": "1e2436c6-5996-47a3-fdb4-78a78053f915"
      },
      "execution_count": 6,
      "outputs": [
        {
          "output_type": "stream",
          "name": "stdout",
          "text": [
            "True\n"
          ]
        }
      ]
    },
    {
      "cell_type": "code",
      "source": [
        "# Remove white spaces\n",
        "\n",
        "name = \"  ranjith\"\n",
        "print(name.strip())\n"
      ],
      "metadata": {
        "colab": {
          "base_uri": "https://localhost:8080/"
        },
        "id": "1uoqRq86UFYP",
        "outputId": "dd133bb8-62d7-4d96-a9d7-5a9e6d35040f"
      },
      "execution_count": 7,
      "outputs": [
        {
          "output_type": "stream",
          "name": "stdout",
          "text": [
            "ranjith\n"
          ]
        }
      ]
    },
    {
      "cell_type": "code",
      "source": [
        "# replace string\n",
        "\n",
        "name = \"ranjith\"\n",
        "print(name.replace(\"ranjith\",\"ranjith kumar\"))"
      ],
      "metadata": {
        "colab": {
          "base_uri": "https://localhost:8080/"
        },
        "id": "hQs4eLajUC-P",
        "outputId": "36772308-09d5-4d9e-8f54-633b0f3bf080"
      },
      "execution_count": 8,
      "outputs": [
        {
          "output_type": "stream",
          "name": "stdout",
          "text": [
            "ranjith kumar\n"
          ]
        }
      ]
    }
  ]
}
