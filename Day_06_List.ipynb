{
  "nbformat": 4,
  "nbformat_minor": 0,
  "metadata": {
    "colab": {
      "provenance": [],
      "authorship_tag": "ABX9TyNO5E0CvuTmzIW7UGC2QVgX",
      "include_colab_link": true
    },
    "kernelspec": {
      "name": "python3",
      "display_name": "Python 3"
    },
    "language_info": {
      "name": "python"
    }
  },
  "cells": [
    {
      "cell_type": "markdown",
      "metadata": {
        "id": "view-in-github",
        "colab_type": "text"
      },
      "source": [
        "<a href=\"https://colab.research.google.com/github/rranjithkumar100/AI-Training/blob/main/Day_6_List.ipynb\" target=\"_parent\"><img src=\"https://colab.research.google.com/assets/colab-badge.svg\" alt=\"Open In Colab\"/></a>"
      ]
    },
    {
      "cell_type": "code",
      "execution_count": 2,
      "metadata": {
        "colab": {
          "base_uri": "https://localhost:8080/"
        },
        "id": "yu-5OxJCueX7",
        "outputId": "e92f1387-2789-4b88-a29e-2abb8917d506"
      },
      "outputs": [
        {
          "output_type": "stream",
          "name": "stdout",
          "text": [
            "True\n"
          ]
        }
      ],
      "source": [
        "gender = [True]\n",
        "print(gender[0])"
      ]
    },
    {
      "cell_type": "code",
      "source": [
        "# append only allow one input\n",
        "totalSteps = [400,500,20,20]\n",
        "print(totalSteps)\n",
        "totalSteps.append(600)\n",
        "print(totalSteps)"
      ],
      "metadata": {
        "colab": {
          "base_uri": "https://localhost:8080/"
        },
        "id": "QQvLX8CRvavX",
        "outputId": "6c5044aa-6bee-40d7-b2e4-07e14e357930"
      },
      "execution_count": 5,
      "outputs": [
        {
          "output_type": "stream",
          "name": "stdout",
          "text": [
            "[400, 500, 20, 20]\n",
            "[400, 500, 20, 20, 600]\n"
          ]
        }
      ]
    },
    {
      "cell_type": "code",
      "source": [
        "# insert\n",
        "totalSteps.insert(0,100)\n",
        "print(totalSteps)"
      ],
      "metadata": {
        "colab": {
          "base_uri": "https://localhost:8080/"
        },
        "id": "MTRXGNdJv3-e",
        "outputId": "2e2a7cb5-f881-4507-ac0d-5ff1934972ea"
      },
      "execution_count": 6,
      "outputs": [
        {
          "output_type": "stream",
          "name": "stdout",
          "text": [
            "[100, 400, 500, 20, 20, 600]\n"
          ]
        }
      ]
    },
    {
      "cell_type": "code",
      "source": [
        "# append single item\n",
        "\n",
        "totalSteps.append(33)\n",
        "print(totalSteps)"
      ],
      "metadata": {
        "colab": {
          "base_uri": "https://localhost:8080/"
        },
        "id": "8N-H6PGswFk2",
        "outputId": "5b871c49-e215-4e5a-e3a9-dcf4a431ecc7"
      },
      "execution_count": 7,
      "outputs": [
        {
          "output_type": "stream",
          "name": "stdout",
          "text": [
            "[100, 400, 500, 20, 20, 600, 33]\n"
          ]
        }
      ]
    },
    {
      "cell_type": "code",
      "source": [
        "# append multiple items (it will add as sub array)\n",
        "totalSteps.append([300,400])\n",
        "print(totalSteps)"
      ],
      "metadata": {
        "colab": {
          "base_uri": "https://localhost:8080/"
        },
        "id": "EWexds80xFbc",
        "outputId": "ca2fcf27-23ae-4a5d-acb5-085b09ad70b5"
      },
      "execution_count": 8,
      "outputs": [
        {
          "output_type": "stream",
          "name": "stdout",
          "text": [
            "[100, 400, 500, 20, 20, 600, 33, [300, 400]]\n"
          ]
        }
      ]
    },
    {
      "cell_type": "code",
      "source": [
        "# extend multiple items using extend (it will allow only list, list will combine)\n",
        "totalSteps.extend([55,66])\n",
        "print(totalSteps)"
      ],
      "metadata": {
        "colab": {
          "base_uri": "https://localhost:8080/"
        },
        "id": "ijiFhLx1xSNy",
        "outputId": "3e83c9aa-f0b7-41cb-9b37-6eaeabce0ec7"
      },
      "execution_count": 9,
      "outputs": [
        {
          "output_type": "stream",
          "name": "stdout",
          "text": [
            "[100, 400, 500, 20, 20, 600, 33, [300, 400], 55, 66]\n"
          ]
        }
      ]
    },
    {
      "cell_type": "code",
      "source": [
        "# pop remove last element\n",
        "totalSteps.pop()\n",
        "print(totalSteps)"
      ],
      "metadata": {
        "colab": {
          "base_uri": "https://localhost:8080/"
        },
        "id": "uIY6QPqRzyHZ",
        "outputId": "8dcd62bf-35bf-475a-9bef-876068e3120f"
      },
      "execution_count": 10,
      "outputs": [
        {
          "output_type": "stream",
          "name": "stdout",
          "text": [
            "[100, 400, 500, 20, 20, 600, 33, [300, 400], 55]\n"
          ]
        }
      ]
    },
    {
      "cell_type": "code",
      "source": [
        "# remove element by index\n",
        "totalSteps.pop(0)\n",
        "print(totalSteps)"
      ],
      "metadata": {
        "colab": {
          "base_uri": "https://localhost:8080/"
        },
        "id": "UAwbfDN4z27l",
        "outputId": "d3377121-0355-4e8b-ec81-0b79fd0c72d5"
      },
      "execution_count": 11,
      "outputs": [
        {
          "output_type": "stream",
          "name": "stdout",
          "text": [
            "[400, 500, 20, 20, 600, 33, [300, 400], 55]\n"
          ]
        }
      ]
    },
    {
      "cell_type": "code",
      "source": [
        "# remove element by value. if multiple values there, it will remove first occurrence\n",
        "totalSteps.remove(20)\n",
        "print(totalSteps)"
      ],
      "metadata": {
        "colab": {
          "base_uri": "https://localhost:8080/"
        },
        "id": "nGQQOmu00RxE",
        "outputId": "17048ab3-d872-4350-ccb5-4c669abcff46"
      },
      "execution_count": 12,
      "outputs": [
        {
          "output_type": "stream",
          "name": "stdout",
          "text": [
            "[400, 500, 20, 600, 33, [300, 400], 55]\n"
          ]
        }
      ]
    },
    {
      "cell_type": "code",
      "source": [
        "# total length of list\n",
        "print(len(totalSteps))"
      ],
      "metadata": {
        "colab": {
          "base_uri": "https://localhost:8080/"
        },
        "id": "SvHzSuQS0jXY",
        "outputId": "442487bc-91e5-43e8-a1cb-d5d9bb056cb0"
      },
      "execution_count": 13,
      "outputs": [
        {
          "output_type": "stream",
          "name": "stdout",
          "text": [
            "7\n"
          ]
        }
      ]
    },
    {
      "cell_type": "code",
      "source": [
        "# remove sub list\n",
        "totalSteps.remove([300,400])\n",
        "print(totalSteps)"
      ],
      "metadata": {
        "colab": {
          "base_uri": "https://localhost:8080/"
        },
        "id": "0LDaC-9b1IuI",
        "outputId": "ea8c6db7-f49f-48cc-9664-d582452d5987"
      },
      "execution_count": 15,
      "outputs": [
        {
          "output_type": "stream",
          "name": "stdout",
          "text": [
            "[20, 33, 400, 500, 600, 55]\n"
          ]
        }
      ]
    },
    {
      "cell_type": "code",
      "source": [
        "# sort ascending\n",
        "totalSteps.sort()\n",
        "print(totalSteps)"
      ],
      "metadata": {
        "colab": {
          "base_uri": "https://localhost:8080/"
        },
        "id": "_XDwqvxN0uG5",
        "outputId": "90a21d92-d064-4b1a-eedc-c26a135590fe"
      },
      "execution_count": 16,
      "outputs": [
        {
          "output_type": "stream",
          "name": "stdout",
          "text": [
            "[20, 33, 55, 400, 500, 600]\n"
          ]
        }
      ]
    },
    {
      "cell_type": "code",
      "source": [
        "# sort decending\n",
        "totalSteps.sort(reverse=True)\n",
        "print(totalSteps)"
      ],
      "metadata": {
        "colab": {
          "base_uri": "https://localhost:8080/"
        },
        "id": "F1ADdtSW1WiK",
        "outputId": "696d9e8f-c81a-4218-9288-037fa4c9c5b1"
      },
      "execution_count": 17,
      "outputs": [
        {
          "output_type": "stream",
          "name": "stdout",
          "text": [
            "[600, 500, 400, 55, 33, 20]\n"
          ]
        }
      ]
    }
  ]
}
