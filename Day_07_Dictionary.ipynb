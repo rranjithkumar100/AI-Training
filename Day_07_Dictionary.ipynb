{
  "nbformat": 4,
  "nbformat_minor": 0,
  "metadata": {
    "colab": {
      "provenance": [],
      "authorship_tag": "ABX9TyMKr8WinKGfARwWPqR/ROi/",
      "include_colab_link": true
    },
    "kernelspec": {
      "name": "python3",
      "display_name": "Python 3"
    },
    "language_info": {
      "name": "python"
    }
  },
  "cells": [
    {
      "cell_type": "markdown",
      "metadata": {
        "id": "view-in-github",
        "colab_type": "text"
      },
      "source": [
        "<a href=\"https://colab.research.google.com/github/rranjithkumar100/AI-Training/blob/main/Day_7_Dictionary.ipynb\" target=\"_parent\"><img src=\"https://colab.research.google.com/assets/colab-badge.svg\" alt=\"Open In Colab\"/></a>"
      ]
    },
    {
      "cell_type": "code",
      "execution_count": 1,
      "metadata": {
        "colab": {
          "base_uri": "https://localhost:8080/"
        },
        "id": "odsVrvKYvKd6",
        "outputId": "090771ef-81e1-4b9e-caea-dc4c35c7f560"
      },
      "outputs": [
        {
          "output_type": "execute_result",
          "data": {
            "text/plain": [
              "dict"
            ]
          },
          "metadata": {},
          "execution_count": 1
        }
      ],
      "source": [
        "# empty dictionary\n",
        "\n",
        "a = {}\n",
        "type(a)"
      ]
    },
    {
      "cell_type": "code",
      "source": [
        "# if we add same key multiple times --> it will take latest value\n",
        "a = {1:44, 1.5:33, \"name\":\"ranjith\",\"name\":\"rr\"}\n",
        "print(a[\"name\"])"
      ],
      "metadata": {
        "colab": {
          "base_uri": "https://localhost:8080/"
        },
        "id": "fccE7Fb1v_XX",
        "outputId": "5f659ec6-8b54-438a-8307-0194e01aec21"
      },
      "execution_count": 17,
      "outputs": [
        {
          "output_type": "stream",
          "name": "stdout",
          "text": [
            "rr\n"
          ]
        }
      ]
    },
    {
      "cell_type": "code",
      "source": [
        "# dict functions\n",
        "# KEYS\n",
        "print(a)\n",
        "print(a.keys())"
      ],
      "metadata": {
        "colab": {
          "base_uri": "https://localhost:8080/"
        },
        "id": "1IFDHLapxCXw",
        "outputId": "8682b096-5b0a-4258-fe9b-b57b69f0d3f9"
      },
      "execution_count": 8,
      "outputs": [
        {
          "output_type": "stream",
          "name": "stdout",
          "text": [
            "{1: 22, 1.5: 33, 'name': 'rr'}\n",
            "dict_keys([1, 1.5, 'name'])\n"
          ]
        }
      ]
    },
    {
      "cell_type": "code",
      "source": [
        "# UPDATE DICT\n",
        "a.update({1:100})\n",
        "print(a)"
      ],
      "metadata": {
        "colab": {
          "base_uri": "https://localhost:8080/"
        },
        "id": "p7-P53jb22xU",
        "outputId": "d40cb1aa-22b0-4719-b7a1-134a7ed9330c"
      },
      "execution_count": 9,
      "outputs": [
        {
          "output_type": "stream",
          "name": "stdout",
          "text": [
            "{1: 100, 1.5: 33, 'name': 'rr'}\n"
          ]
        }
      ]
    },
    {
      "cell_type": "code",
      "source": [
        "# POP DICT needs key as a input\n",
        "a.pop(1)\n",
        "print(a)"
      ],
      "metadata": {
        "colab": {
          "base_uri": "https://localhost:8080/"
        },
        "id": "UB1CAM1i3SIm",
        "outputId": "a6cf4268-8edf-411a-d6b5-ce088ec69d8a"
      },
      "execution_count": 11,
      "outputs": [
        {
          "output_type": "stream",
          "name": "stdout",
          "text": [
            "{1.5: 33, 'name': 'rr'}\n"
          ]
        }
      ]
    },
    {
      "cell_type": "code",
      "source": [
        "# DICT 2 WITH SAME KEY IN (1.5) DICT 1\n",
        "print(a)\n",
        "b = {7:22, 1.5:22}\n",
        "a.update(b)\n",
        "print(b)\n",
        "print(\"a+b=\",a)"
      ],
      "metadata": {
        "colab": {
          "base_uri": "https://localhost:8080/"
        },
        "id": "J95Sbi453b43",
        "outputId": "7067c442-6b53-4a2e-fdf2-7a3ba52277a0"
      },
      "execution_count": 18,
      "outputs": [
        {
          "output_type": "stream",
          "name": "stdout",
          "text": [
            "{1: 44, 1.5: 33, 'name': 'rr'}\n",
            "{7: 22, 1.5: 22}\n",
            "a+b= {1: 44, 1.5: 22, 'name': 'rr', 7: 22}\n"
          ]
        }
      ]
    }
  ]
}
