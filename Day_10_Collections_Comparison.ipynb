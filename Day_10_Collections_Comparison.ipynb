{
  "nbformat": 4,
  "nbformat_minor": 0,
  "metadata": {
    "colab": {
      "provenance": [],
      "authorship_tag": "ABX9TyM1iwbLotE7cxcGJDgod/4j",
      "include_colab_link": true
    },
    "kernelspec": {
      "name": "python3",
      "display_name": "Python 3"
    },
    "language_info": {
      "name": "python"
    }
  },
  "cells": [
    {
      "cell_type": "markdown",
      "metadata": {
        "id": "view-in-github",
        "colab_type": "text"
      },
      "source": [
        "<a href=\"https://colab.research.google.com/github/rranjithkumar100/AI-Training/blob/main/Day_10_Collections_Comparison.ipynb\" target=\"_parent\"><img src=\"https://colab.research.google.com/assets/colab-badge.svg\" alt=\"Open In Colab\"/></a>"
      ]
    },
    {
      "cell_type": "code",
      "execution_count": 1,
      "metadata": {
        "colab": {
          "base_uri": "https://localhost:8080/"
        },
        "id": "me-mdHnjNgqS",
        "outputId": "b8b9953c-4b6a-40fd-de3f-66bc0ae8e428"
      },
      "outputs": [
        {
          "output_type": "stream",
          "name": "stdout",
          "text": [
            "[1, 2, 3, 4, 5, 1, 2, 3]\n",
            "{1, 2, 3, 4, 5}\n"
          ]
        }
      ],
      "source": [
        "#1. List vs Set - Duplicates\n",
        "\n",
        "myList = [1, 2, 3, 4, 5, 1, 2, 3]\n",
        "mySet = {1, 2, 3, 4, 5, 1, 2, 3}\n",
        "\n",
        "print(myList)\n",
        "print(mySet)\n"
      ]
    },
    {
      "cell_type": "code",
      "source": [
        "# 2. List vs Tuple - Mutability\n",
        "\n",
        "myList = [1, 2, 3]\n",
        "myTuple = (1, 2, 3)\n",
        "\n",
        "myList[0] = 4 # allowed mutablity - mean allow edit\n",
        "# myTuple[0] = 4 # it will not allow to edit. it will throw error\n",
        "\n",
        "print(myList)\n",
        "print(myTuple)"
      ],
      "metadata": {
        "colab": {
          "base_uri": "https://localhost:8080/"
        },
        "id": "ftjP5P-kVPuH",
        "outputId": "ce924867-a2c6-4596-ee21-d68f9cd2ff8a"
      },
      "execution_count": 2,
      "outputs": [
        {
          "output_type": "stream",
          "name": "stdout",
          "text": [
            "[4, 2, 3]\n",
            "(1, 2, 3)\n"
          ]
        }
      ]
    },
    {
      "cell_type": "code",
      "source": [
        "# 3. Dictionary - Key-Value Storage\n",
        "\n",
        "myDict = {\"name\": \"John\", \"age\": 30, \"city\": \"New York\"}\n",
        "print(myDict)\n"
      ],
      "metadata": {
        "colab": {
          "base_uri": "https://localhost:8080/"
        },
        "id": "EtCQpZS1Vgrm",
        "outputId": "b7f2a14f-8e34-46e3-b072-767da83aad67"
      },
      "execution_count": 3,
      "outputs": [
        {
          "output_type": "stream",
          "name": "stdout",
          "text": [
            "{'name': 'John', 'age': 30, 'city': 'New York'}\n"
          ]
        }
      ]
    },
    {
      "cell_type": "code",
      "source": [
        "# 4. List vs Set - Order Preservation\n",
        "\n",
        "myList = [1, 2, 3, 4, 5,6,7,8]\n",
        "mySet = {1, 2, 3, 4, 5,6,7,8}\n",
        "\n",
        "print(myList) # order guarantee\n",
        "print(mySet) # order not guarantee - sometimes it will in same order"
      ],
      "metadata": {
        "colab": {
          "base_uri": "https://localhost:8080/"
        },
        "id": "SiDaAGE4Vrag",
        "outputId": "3e10243e-adff-49d0-a81e-490f25fcee29"
      },
      "execution_count": 11,
      "outputs": [
        {
          "output_type": "stream",
          "name": "stdout",
          "text": [
            "[1, 2, 3, 4, 5, 6, 7, 8, 9, 10]\n",
            "{1, 2, 3, 4, 5, 6, 7, 8, 9, 10}\n"
          ]
        }
      ]
    },
    {
      "cell_type": "code",
      "source": [
        "# 5. Tuple vs List - Heterogeneous Data\n",
        "\n",
        "myTuple = (1, \"hello\", 3.14)\n",
        "myList = [1, \"hello\", 3.14]\n",
        "\n",
        "print(myTuple) # used for fixed data\n",
        "print(myList) # used for mutable data"
      ],
      "metadata": {
        "id": "bXmE7iVPWSGY"
      },
      "execution_count": null,
      "outputs": []
    },
    {
      "cell_type": "code",
      "source": [
        "# 6. Tuple packing and unpacking\n",
        "\n",
        "myTuple = (1, 2, 3) # packing\n",
        "a, b, c = myTuple # unpacking\n",
        "\n",
        "print(a)\n",
        "print(b)\n",
        "print(c)"
      ],
      "metadata": {
        "colab": {
          "base_uri": "https://localhost:8080/"
        },
        "id": "zCln97pWWmFo",
        "outputId": "16e3b141-dae2-4e53-ce71-e8934ca12fb1"
      },
      "execution_count": 12,
      "outputs": [
        {
          "output_type": "stream",
          "name": "stdout",
          "text": [
            "1\n",
            "2\n",
            "3\n"
          ]
        }
      ]
    },
    {
      "cell_type": "code",
      "source": [
        "# 7. Tuple not consider as Tuple, if its only one value\n",
        "\n",
        "a = (1)\n",
        "print(type(a)) # not consider as a Tuple\n",
        "print(a)"
      ],
      "metadata": {
        "colab": {
          "base_uri": "https://localhost:8080/"
        },
        "id": "biYBC3qwW2Kz",
        "outputId": "a865dbd0-6675-4a52-e1b9-808f390ceaed"
      },
      "execution_count": 14,
      "outputs": [
        {
          "output_type": "stream",
          "name": "stdout",
          "text": [
            "<class 'int'>\n",
            "1\n"
          ]
        }
      ]
    },
    {
      "cell_type": "code",
      "source": [
        "# 8. Indexing comparsion between Set, List, Tuple and Dictionary\n",
        "\n",
        "# List - Indexing by position\n",
        "my_list = [10, 20, 30]\n",
        "print(\"List - Index 1:\", my_list[1])  # Output: 20\n",
        "\n",
        "# Tuple - Indexing by position\n",
        "my_tuple = (10, 20, 30)\n",
        "print(\"Tuple - Index 1:\", my_tuple[1])  # Output: 20\n",
        "\n",
        "# Set - Indexing not allowed (Uncommenting next line will cause an error)\n",
        "my_set = {10, 20, 30}\n",
        "# print(\"Set - Index 1:\", my_set[1])  # Uncomment to see the TypeError\n",
        "print(\"Set - Indexing not allowed\")\n",
        "\n",
        "# Dictionary - Indexing by key\n",
        "my_dict = {\"a\": 10, \"b\": 20, \"c\": 30}\n",
        "print(\"Dictionary - Key 'b':\", my_dict[\"b\"])  # Output: 20"
      ],
      "metadata": {
        "colab": {
          "base_uri": "https://localhost:8080/"
        },
        "id": "NQHKujRjXl2F",
        "outputId": "e98fa6c9-6acd-4287-937f-3b349b7a032a"
      },
      "execution_count": 17,
      "outputs": [
        {
          "output_type": "stream",
          "name": "stdout",
          "text": [
            "List - Index 1: 20\n",
            "Tuple - Index 1: 20\n",
            "Set - Indexing not allowed\n",
            "Dictionary - Key 'b': 20\n"
          ]
        }
      ]
    }
  ]
}