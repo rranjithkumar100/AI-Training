{
  "nbformat": 4,
  "nbformat_minor": 0,
  "metadata": {
    "colab": {
      "provenance": [],
      "authorship_tag": "ABX9TyMtYvtwgWbjf2EfBeE2pL14",
      "include_colab_link": true
    },
    "kernelspec": {
      "name": "python3",
      "display_name": "Python 3"
    },
    "language_info": {
      "name": "python"
    }
  },
  "cells": [
    {
      "cell_type": "markdown",
      "metadata": {
        "id": "view-in-github",
        "colab_type": "text"
      },
      "source": [
        "<a href=\"https://colab.research.google.com/github/rranjithkumar100/AI-Training/blob/main/Day_11_Collection_Practice.ipynb\" target=\"_parent\"><img src=\"https://colab.research.google.com/assets/colab-badge.svg\" alt=\"Open In Colab\"/></a>"
      ]
    },
    {
      "cell_type": "code",
      "execution_count": 5,
      "metadata": {
        "colab": {
          "base_uri": "https://localhost:8080/"
        },
        "id": "o9nwYy8golzH",
        "outputId": "82f130ae-32a7-489b-bb3b-c1d9bab4e785"
      },
      "outputs": [
        {
          "output_type": "stream",
          "name": "stdout",
          "text": [
            "\n",
            "****************************************\n",
            "\n",
            "Inventory:\n",
            "Name\tQuantity\tPrice\n",
            "Apple\t10\t\t1.5\n",
            "Banana\t5\t\t0.75\n",
            "Orange\t8\t\t1.25\n",
            "\n",
            "****************************************\n",
            "\n",
            "3 Apple(s) sold.\n",
            "2 Banana(s) sold.\n",
            "\n",
            "****************************************\n",
            "\n",
            "Inventory:\n",
            "Name\tQuantity\tPrice\n",
            "Apple\t7\t\t1.5\n",
            "Banana\t3\t\t0.75\n",
            "Orange\t8\t\t1.25\n",
            "\n",
            "****************************************\n",
            "\n"
          ]
        }
      ],
      "source": [
        "# Sample inventory program using List\n",
        "\n",
        "\n",
        "# Create an empty inventory list\n",
        "inventory = []\n",
        "\n",
        "\n",
        "# Function to display all available items in Table\n",
        "def display_inventory():\n",
        "    print(\"\\n****************************************\\n\")\n",
        "    print(\"Inventory:\")\n",
        "    print(\"Name\\tQuantity\\tPrice\")\n",
        "    for item in inventory:\n",
        "        print(f\"{item['name']}\\t{item['quantity']}\\t\\t{item['price']}\")\n",
        "    print(\"\\n****************************************\\n\")\n",
        "\n",
        "\n",
        "\n",
        "# Function to add items to the inventory\n",
        "def add_item(name, quantity, price):\n",
        "    item = {\n",
        "        \"name\": name,\n",
        "        \"quantity\": quantity,\n",
        "        \"price\": price\n",
        "    }\n",
        "    inventory.append(item)\n",
        "\n",
        "\n",
        "\n",
        "\n",
        "# add fruits\n",
        "add_item(\"Apple\", 10, 1.5)\n",
        "add_item(\"Banana\", 5, 0.75)\n",
        "add_item(\"Orange\", 8, 1.25)\n",
        "\n",
        "\n",
        "display_inventory()\n",
        "\n",
        "# Function to sell items\n",
        "def sell_item(name, quantity):\n",
        "    for item in inventory:\n",
        "        if item[\"name\"] == name:\n",
        "            if item[\"quantity\"] >= quantity:\n",
        "                item[\"quantity\"] -= quantity\n",
        "                print(f\"{quantity} {name}(s) sold.\")\n",
        "\n",
        "\n",
        "\n",
        "\n",
        "# sell some fruits\n",
        "sell_item(\"Apple\", 3)\n",
        "sell_item(\"Banana\", 2)\n",
        "\n",
        "# Display the updated inventory\n",
        "display_inventory()\n",
        "\n"
      ]
    }
  ]
}