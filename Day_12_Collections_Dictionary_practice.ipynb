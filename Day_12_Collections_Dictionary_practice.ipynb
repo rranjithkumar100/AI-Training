{
  "nbformat": 4,
  "nbformat_minor": 0,
  "metadata": {
    "colab": {
      "provenance": [],
      "authorship_tag": "ABX9TyNJSIylAGAjxqzQ/E16Y5IB",
      "include_colab_link": true
    },
    "kernelspec": {
      "name": "python3",
      "display_name": "Python 3"
    },
    "language_info": {
      "name": "python"
    }
  },
  "cells": [
    {
      "cell_type": "markdown",
      "metadata": {
        "id": "view-in-github",
        "colab_type": "text"
      },
      "source": [
        "<a href=\"https://colab.research.google.com/github/rranjithkumar100/AI-Training/blob/main/Day_12_Collections_Dictionary_practice.ipynb\" target=\"_parent\"><img src=\"https://colab.research.google.com/assets/colab-badge.svg\" alt=\"Open In Colab\"/></a>"
      ]
    },
    {
      "cell_type": "code",
      "execution_count": 1,
      "metadata": {
        "colab": {
          "base_uri": "https://localhost:8080/"
        },
        "id": "4P-Bj0fmyBdh",
        "outputId": "203e370a-b219-47d5-bd2b-78c8c581b8b5"
      },
      "outputs": [
        {
          "output_type": "stream",
          "name": "stdout",
          "text": [
            "Total marks for each student:\n",
            "Ranjith: 255\n",
            "Bala: 250\n",
            "Vijay: 277\n",
            "David: 259\n",
            "Raja: 256\n",
            "\n",
            "Top 3 rank holders:\n",
            "Rank 1: Vijay with 277 marks\n",
            "Rank 2: David with 259 marks\n",
            "Rank 3: Raja with 256 marks\n"
          ]
        }
      ],
      "source": [
        "from collections import Counter\n",
        "\n",
        "# Initialize a dictionary to store total marks for each student\n",
        "student_totals = {}\n",
        "\n",
        "# Function to add student marks and calculate total\n",
        "def add_student_marks(name, marks):\n",
        "    total = sum(marks)\n",
        "    student_totals[name] = total\n",
        "\n",
        "# Function to find the top 3 rank holders\n",
        "def find_top_3_rankers():\n",
        "    # Use Counter to get the top 3 students\n",
        "    return Counter(student_totals).most_common(3)\n",
        "\n",
        "# Adding sample student data\n",
        "add_student_marks(\"Ranjith\", [80, 90, 85])\n",
        "add_student_marks(\"Bala\", [78, 88, 84])\n",
        "add_student_marks(\"Vijay\", [95, 92, 90])\n",
        "add_student_marks(\"David\", [88, 86, 85])\n",
        "add_student_marks(\"Raja\", [84, 85, 87])\n",
        "\n",
        "# Display total marks for each student\n",
        "print(\"Total marks for each student:\")\n",
        "for name, total in student_totals.items():\n",
        "    print(f\"{name}: {total}\")\n",
        "\n",
        "# Display the top 3 rank holders\n",
        "print(\"\\nTop 3 rank holders:\")\n",
        "top_3_rankers = find_top_3_rankers()\n",
        "for rank, (name, total) in enumerate(top_3_rankers, start=1):\n",
        "    print(f\"Rank {rank}: {name} with {total} marks\")\n"
      ]
    }
  ]
}