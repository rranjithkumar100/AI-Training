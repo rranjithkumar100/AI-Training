{
  "nbformat": 4,
  "nbformat_minor": 0,
  "metadata": {
    "colab": {
      "provenance": [],
      "authorship_tag": "ABX9TyNoKyCxUKxZ3ugQ7t2ydWKS",
      "include_colab_link": true
    },
    "kernelspec": {
      "name": "python3",
      "display_name": "Python 3"
    },
    "language_info": {
      "name": "python"
    }
  },
  "cells": [
    {
      "cell_type": "markdown",
      "metadata": {
        "id": "view-in-github",
        "colab_type": "text"
      },
      "source": [
        "<a href=\"https://colab.research.google.com/github/rranjithkumar100/AI-Training/blob/main/Day_13_FlowControl_Statements.ipynb\" target=\"_parent\"><img src=\"https://colab.research.google.com/assets/colab-badge.svg\" alt=\"Open In Colab\"/></a>"
      ]
    },
    {
      "cell_type": "code",
      "execution_count": 1,
      "metadata": {
        "colab": {
          "base_uri": "https://localhost:8080/"
        },
        "id": "vT3OMKvasfM5",
        "outputId": "c408a0ec-3e83-4544-9748-a14cb0662f68"
      },
      "outputs": [
        {
          "output_type": "stream",
          "name": "stdout",
          "text": [
            "yes\n"
          ]
        }
      ],
      "source": [
        "a = 10\n",
        "\n",
        "if a > 5:\n",
        "  print(\"yes\")\n",
        "else:\n",
        "  print(\"no\")"
      ]
    },
    {
      "cell_type": "code",
      "source": [
        "name = \"ranjith\"\n",
        "print(name)"
      ],
      "metadata": {
        "colab": {
          "base_uri": "https://localhost:8080/"
        },
        "id": "XGT0O-zBxLfj",
        "outputId": "bcd85ce0-d1ff-4087-8cbc-8b597b63a1d0"
      },
      "execution_count": 2,
      "outputs": [
        {
          "output_type": "stream",
          "name": "stdout",
          "text": [
            "ranjith\n"
          ]
        }
      ]
    },
    {
      "cell_type": "code",
      "source": [
        "age = input(\"enter your age\")\n",
        "print(age)\n",
        "if(int(age)>=18):\n",
        "  print(\"you are eligible to vote\")\n",
        "else:\n",
        "  print(\"you are not eligible to vote\")"
      ],
      "metadata": {
        "colab": {
          "base_uri": "https://localhost:8080/"
        },
        "id": "Ep7zJldVxQk4",
        "outputId": "1ce3a9d4-f048-48fb-def7-374a0885a7c1"
      },
      "execution_count": 4,
      "outputs": [
        {
          "output_type": "stream",
          "name": "stdout",
          "text": [
            "enter your age18\n",
            "18\n",
            "you are eligible to vote\n"
          ]
        }
      ]
    },
    {
      "cell_type": "code",
      "source": [
        "practical = 100\n",
        "\n",
        "sub1 = int(input(\"enter the marks of sub1: \"))\n",
        "sub2 = int(input(\"enter the marks of sub2: \"))\n",
        "sub3 = int(input(\"enter the marks of sub3: \"))\n",
        "sub4 = int(input(\"enter the marks of sub4: \"))\n",
        "\n",
        "total = sub1+sub2+sub3+sub4+practical\n",
        "print(total)\n",
        "\n",
        "if(total> 400):\n",
        "  print(\"Class A\")\n",
        "elif(total>350):\n",
        "  print(\"Class B\")\n",
        "elif(total>300):\n",
        "  print(\"Class C\")\n",
        "else:\n",
        "  print(\"Fail\")\n"
      ],
      "metadata": {
        "colab": {
          "base_uri": "https://localhost:8080/"
        },
        "id": "7qprOtYCytRG",
        "outputId": "816b3a45-549f-43e1-a1c1-dda9043a84d9"
      },
      "execution_count": 6,
      "outputs": [
        {
          "output_type": "stream",
          "name": "stdout",
          "text": [
            "enter the marks of sub1: 80\n",
            "enter the marks of sub2: 90\n",
            "enter the marks of sub3: 50\n",
            "enter the marks of sub4: 80\n",
            "400\n",
            "Class B\n"
          ]
        }
      ]
    },
    {
      "cell_type": "code",
      "source": [
        "year = int(input(\"enter the year: \"))\n",
        "if(year%4==0):\n",
        "  print(\"leap year\")\n",
        "else:\n",
        "  print(\"not a leap year\")"
      ],
      "metadata": {
        "colab": {
          "base_uri": "https://localhost:8080/"
        },
        "id": "YGDZbrCxzj51",
        "outputId": "734eb9f8-1b3b-44eb-9aeb-c31f5a8d79e9"
      },
      "execution_count": 8,
      "outputs": [
        {
          "output_type": "stream",
          "name": "stdout",
          "text": [
            "enter the year2000\n",
            "leap year\n"
          ]
        }
      ]
    },
    {
      "cell_type": "code",
      "source": [
        "year = int(input(\"enter the year: \"))\n",
        "\n",
        "if(year%4==0):\n",
        "  if(year%100==0):\n",
        "    if(year%400==0):\n",
        "      print(\"leap year\")\n",
        "    else:\n",
        "      print(\"not a leap year\")\n",
        "  else:\n",
        "    print(\"leap year\")"
      ],
      "metadata": {
        "id": "qCwQIv5K0c4B"
      },
      "execution_count": null,
      "outputs": []
    },
    {
      "cell_type": "code",
      "source": [
        "# nested if example\n",
        "\n",
        "age = int(input(\"enter your age: \"))\n",
        "\n",
        "if(age>18):\n",
        "  print(\"you are eligible to vote\")\n",
        "  name = input(\"enter your name: \")"
      ],
      "metadata": {
        "id": "BWUi3x-n3Jdo"
      },
      "execution_count": null,
      "outputs": []
    }
  ]
}