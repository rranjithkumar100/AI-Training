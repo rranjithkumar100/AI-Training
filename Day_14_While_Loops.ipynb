{
  "nbformat": 4,
  "nbformat_minor": 0,
  "metadata": {
    "colab": {
      "provenance": [],
      "authorship_tag": "ABX9TyNW5sr+hQVAQFIISoUuzcWh",
      "include_colab_link": true
    },
    "kernelspec": {
      "name": "python3",
      "display_name": "Python 3"
    },
    "language_info": {
      "name": "python"
    }
  },
  "cells": [
    {
      "cell_type": "markdown",
      "metadata": {
        "id": "view-in-github",
        "colab_type": "text"
      },
      "source": [
        "<a href=\"https://colab.research.google.com/github/rranjithkumar100/AI-Training/blob/main/Day_14_While_Loops.ipynb\" target=\"_parent\"><img src=\"https://colab.research.google.com/assets/colab-badge.svg\" alt=\"Open In Colab\"/></a>"
      ]
    },
    {
      "cell_type": "code",
      "execution_count": 5,
      "metadata": {
        "colab": {
          "base_uri": "https://localhost:8080/"
        },
        "id": "_veuVWs0x530",
        "outputId": "f298bee6-5ebe-4ef5-f7f4-35b14412d602"
      },
      "outputs": [
        {
          "output_type": "stream",
          "name": "stdout",
          "text": [
            "0\n",
            "1\n",
            "2\n",
            "3\n",
            "4\n",
            "5\n",
            "6\n",
            "7\n",
            "8\n",
            "9\n",
            "10\n",
            "11\n",
            "12\n",
            "13\n",
            "14\n",
            "15\n",
            "16\n",
            "17\n",
            "18\n",
            "19\n",
            "20\n",
            "21\n",
            "22\n",
            "23\n",
            "24\n",
            "25\n",
            "26\n",
            "27\n",
            "28\n",
            "29\n",
            "30\n",
            "31\n",
            "32\n",
            "33\n",
            "34\n",
            "35\n",
            "36\n",
            "37\n",
            "38\n",
            "39\n",
            "40\n",
            "41\n",
            "42\n",
            "43\n",
            "44\n",
            "45\n",
            "46\n",
            "47\n",
            "48\n",
            "49\n",
            "50\n",
            "51\n",
            "52\n",
            "53\n",
            "54\n",
            "55\n",
            "56\n",
            "57\n",
            "58\n",
            "59\n",
            "60\n",
            "61\n",
            "62\n",
            "63\n",
            "64\n",
            "65\n",
            "66\n",
            "67\n",
            "68\n",
            "69\n",
            "70\n",
            "71\n",
            "72\n",
            "73\n",
            "74\n",
            "75\n",
            "76\n",
            "77\n",
            "78\n",
            "79\n",
            "80\n",
            "81\n",
            "82\n",
            "83\n",
            "84\n",
            "85\n",
            "86\n",
            "87\n",
            "88\n",
            "89\n",
            "90\n",
            "91\n",
            "92\n",
            "93\n",
            "94\n",
            "95\n",
            "96\n",
            "97\n",
            "98\n",
            "99\n",
            "100\n"
          ]
        }
      ],
      "source": [
        "i = 0\n",
        "while i <= 100:\n",
        "    print(i)\n",
        "    i+=1"
      ]
    },
    {
      "cell_type": "code",
      "source": [
        "students = [\"a\", \"b\", \"c\", \"d\", \"e\"]\n",
        "\n",
        "i = 0\n",
        "while i < len(students):\n",
        "    print(\"Welcome \"+students[i])\n",
        "    i+=1"
      ],
      "metadata": {
        "colab": {
          "base_uri": "https://localhost:8080/"
        },
        "id": "vAEHKBx8y2W0",
        "outputId": "4dd2ced1-b163-4745-b219-81ef1c02995c"
      },
      "execution_count": 6,
      "outputs": [
        {
          "output_type": "stream",
          "name": "stdout",
          "text": [
            "Welcome a\n",
            "Welcome b\n",
            "Welcome c\n",
            "Welcome d\n",
            "Welcome e\n"
          ]
        }
      ]
    },
    {
      "cell_type": "code",
      "source": [
        "password = input(\"enter your password \")\n",
        "\n",
        "print(\"your password is \"+password)\n",
        "\n",
        "while password == \"Ranjith\":\n",
        "    print(\"your password is correct\")\n",
        "    break\n",
        "else:\n",
        "    print(\"your password is incorrect\")"
      ],
      "metadata": {
        "colab": {
          "base_uri": "https://localhost:8080/"
        },
        "id": "1R-0N_6B1WtR",
        "outputId": "1f093d42-5b11-481b-b2e7-1506c71cc536"
      },
      "execution_count": 7,
      "outputs": [
        {
          "output_type": "stream",
          "name": "stdout",
          "text": [
            "enter your password Ranjith\n",
            "your password is Ranjith\n",
            "your password is correct\n"
          ]
        }
      ]
    },
    {
      "cell_type": "code",
      "source": [
        "s = \"beautiful\"\n",
        "\n",
        "vowels = [\"a\", \"e\", \"i\",\"o\",\"u\"]\n",
        "\n",
        "for i in s:\n",
        "    if i in vowels:\n",
        "      continue\n",
        "    print(i)\n"
      ],
      "metadata": {
        "colab": {
          "base_uri": "https://localhost:8080/"
        },
        "id": "InHoKYFO5fb8",
        "outputId": "0571edd0-cd46-465c-d8b9-95301a24c3a4"
      },
      "execution_count": 8,
      "outputs": [
        {
          "output_type": "stream",
          "name": "stdout",
          "text": [
            "b\n",
            "t\n",
            "f\n",
            "l\n"
          ]
        }
      ]
    },
    {
      "cell_type": "code",
      "source": [
        "year = int(input(\"Enter the year: \"))\n",
        "\n",
        "i = 1\n",
        "while i <= year:\n",
        "    if i % 4 == 0:\n",
        "        print(i)\n",
        "    i+=1\n",
        "\n"
      ],
      "metadata": {
        "colab": {
          "base_uri": "https://localhost:8080/"
        },
        "id": "8P9wmILu62_X",
        "outputId": "4b7d2bb8-e92b-4ba3-d59c-775252a1ffb7"
      },
      "execution_count": 13,
      "outputs": [
        {
          "output_type": "stream",
          "name": "stdout",
          "text": [
            "Enter the year: 16\n",
            "4\n",
            "8\n",
            "12\n",
            "16\n"
          ]
        }
      ]
    },
    {
      "cell_type": "code",
      "source": [
        "n = int(input(\"Enter number: \"))\n",
        "\n",
        "i = 1\n",
        "while i <= n:\n",
        "  if(i%2==0):\n",
        "    print(\"Even number \"+ str(i))\n",
        "  else:\n",
        "    print(\"Odd number\"+ str(i))\n",
        "  i+=1\n",
        "#"
      ],
      "metadata": {
        "colab": {
          "base_uri": "https://localhost:8080/"
        },
        "id": "KpapNqeC9UXe",
        "outputId": "45080d94-d401-46cb-aa5e-3526490ae22a"
      },
      "execution_count": 17,
      "outputs": [
        {
          "output_type": "stream",
          "name": "stdout",
          "text": [
            "Enter number: 10\n",
            "Odd number1\n",
            "Even number 2\n",
            "Odd number3\n",
            "Even number 4\n",
            "Odd number5\n",
            "Even number 6\n",
            "Odd number7\n",
            "Even number 8\n",
            "Odd number9\n",
            "Even number 10\n"
          ]
        }
      ]
    },
    {
      "cell_type": "code",
      "source": [
        "studentNames = [\"Ranjith\", \"Ram\", \"Kumar\"]\n",
        "i = 0\n",
        "while i < len(studentNames):\n",
        "    print(studentNames[i] + \" length is \"+ str(len(studentNames[i])))\n",
        "    i+=1\n"
      ],
      "metadata": {
        "colab": {
          "base_uri": "https://localhost:8080/"
        },
        "id": "-Y-3BZfY977P",
        "outputId": "50f6f1fa-7fdf-439e-d9dd-9b13b5e66d55"
      },
      "execution_count": 21,
      "outputs": [
        {
          "output_type": "stream",
          "name": "stdout",
          "text": [
            "Ranjith length is 7\n",
            "Ram length is 3\n",
            "Kumar length is 5\n"
          ]
        }
      ]
    }
  ]
}