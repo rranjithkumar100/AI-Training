{
  "nbformat": 4,
  "nbformat_minor": 0,
  "metadata": {
    "colab": {
      "provenance": [],
      "authorship_tag": "ABX9TyNZfFMDF1f4umWSlNbH/sHK",
      "include_colab_link": true
    },
    "kernelspec": {
      "name": "python3",
      "display_name": "Python 3"
    },
    "language_info": {
      "name": "python"
    }
  },
  "cells": [
    {
      "cell_type": "markdown",
      "metadata": {
        "id": "view-in-github",
        "colab_type": "text"
      },
      "source": [
        "<a href=\"https://colab.research.google.com/github/rranjithkumar100/AI-Training/blob/main/Day_15_Inbuild_Functions.ipynb\" target=\"_parent\"><img src=\"https://colab.research.google.com/assets/colab-badge.svg\" alt=\"Open In Colab\"/></a>"
      ]
    },
    {
      "cell_type": "code",
      "execution_count": 1,
      "metadata": {
        "colab": {
          "base_uri": "https://localhost:8080/"
        },
        "id": "Tdv3sLgT9ZQ-",
        "outputId": "b6fcb540-56f9-405b-ffeb-8c63ba21ebfa"
      },
      "outputs": [
        {
          "output_type": "stream",
          "name": "stdout",
          "text": [
            "7\n"
          ]
        }
      ],
      "source": [
        "############# Inbuild functions ##################\n",
        "\n",
        "s = \"ranjith\"\n",
        "# length function\n",
        "print(len(s))"
      ]
    },
    {
      "cell_type": "code",
      "source": [
        "# integer functions\n",
        "\n",
        "a = 10\n",
        "print(int(a))"
      ],
      "metadata": {
        "colab": {
          "base_uri": "https://localhost:8080/"
        },
        "id": "I-074cul-Ob4",
        "outputId": "3edb531e-36e8-4d7a-d920-fa860b468276"
      },
      "execution_count": 2,
      "outputs": [
        {
          "output_type": "stream",
          "name": "stdout",
          "text": [
            "10\n"
          ]
        }
      ]
    },
    {
      "cell_type": "code",
      "source": [
        "# string functions\n",
        "\n",
        "s = \"raja\"\n",
        "print(s.capitalize())\n",
        "print(s.lower())\n",
        "print(s.casefold())\n",
        "print(s.upper())\n"
      ],
      "metadata": {
        "colab": {
          "base_uri": "https://localhost:8080/"
        },
        "id": "767oh6YH-iqO",
        "outputId": "a5e0b8a6-72cc-4f50-a05b-8729d2a27db9"
      },
      "execution_count": 6,
      "outputs": [
        {
          "output_type": "stream",
          "name": "stdout",
          "text": [
            "Raja\n",
            "raja\n",
            "raja\n",
            "RAJA\n"
          ]
        }
      ]
    },
    {
      "cell_type": "code",
      "source": [
        "# comma seperated string to array\n",
        "\n",
        "students = \"ranjith,raja,ram\"\n",
        "arrayOfStudents = students.split(\",\")\n",
        "print(arrayOfStudents)\n",
        "print(arrayOfStudents[0])"
      ],
      "metadata": {
        "colab": {
          "base_uri": "https://localhost:8080/"
        },
        "id": "uE_u3Hr7_Jhh",
        "outputId": "8e211a20-470e-46b0-9424-5c17e0235697"
      },
      "execution_count": 8,
      "outputs": [
        {
          "output_type": "stream",
          "name": "stdout",
          "text": [
            "['ranjith', 'raja', 'ram']\n",
            "ranjith\n"
          ]
        }
      ]
    },
    {
      "cell_type": "code",
      "source": [
        "# reverse functions\n",
        "city = \"chennai\"\n",
        "print(city[::-1])\n",
        "\n",
        "reversedCity = reversed(city)\n",
        "print(list(reversedCity))"
      ],
      "metadata": {
        "colab": {
          "base_uri": "https://localhost:8080/"
        },
        "id": "AGr8DlCC_t7Q",
        "outputId": "1b261771-8469-48c8-83ef-bfd9d0a69205"
      },
      "execution_count": 13,
      "outputs": [
        {
          "output_type": "stream",
          "name": "stdout",
          "text": [
            "iannehc\n",
            "['i', 'a', 'n', 'n', 'e', 'h', 'c']\n"
          ]
        }
      ]
    },
    {
      "cell_type": "code",
      "source": [
        "# is number\n",
        "num = \"12345\"\n",
        "print(num.isnumeric())"
      ],
      "metadata": {
        "colab": {
          "base_uri": "https://localhost:8080/"
        },
        "id": "E44aX6muCCOr",
        "outputId": "8e0fb9e2-7b1f-4784-aced-a2193cc4f5f4"
      },
      "execution_count": 10,
      "outputs": [
        {
          "output_type": "stream",
          "name": "stdout",
          "text": [
            "True\n"
          ]
        }
      ]
    },
    {
      "cell_type": "code",
      "source": [
        "# check space contains\n",
        "name = \"ranjith\"\n",
        "print(name.isspace())"
      ],
      "metadata": {
        "colab": {
          "base_uri": "https://localhost:8080/"
        },
        "id": "ck1RZHFLCFIh",
        "outputId": "bef615bd-88f7-4b1b-f22f-8aec4d559098"
      },
      "execution_count": 11,
      "outputs": [
        {
          "output_type": "stream",
          "name": "stdout",
          "text": [
            "False\n"
          ]
        }
      ]
    },
    {
      "cell_type": "code",
      "source": [
        "# is title\n",
        "name = \"Ranjith\"\n",
        "print(name.istitle())"
      ],
      "metadata": {
        "colab": {
          "base_uri": "https://localhost:8080/"
        },
        "id": "6PAfxPqKCIzb",
        "outputId": "2720c41b-538e-4be8-97fc-30a2bcf0832a"
      },
      "execution_count": 12,
      "outputs": [
        {
          "output_type": "stream",
          "name": "stdout",
          "text": [
            "True\n"
          ]
        }
      ]
    },
    {
      "cell_type": "code",
      "source": [
        "# replace char\n",
        "name = \"ranjith\"\n",
        "print(name.replace(\"r\", \"R\"))"
      ],
      "metadata": {
        "colab": {
          "base_uri": "https://localhost:8080/"
        },
        "id": "-dRH41XtCsU3",
        "outputId": "8c0da5b8-a09b-4c96-f47e-d4e6586738db"
      },
      "execution_count": 14,
      "outputs": [
        {
          "output_type": "stream",
          "name": "stdout",
          "text": [
            "Ranjith\n"
          ]
        }
      ]
    },
    {
      "cell_type": "code",
      "source": [
        "# power function\n",
        "\n",
        "a = 3\n",
        "b = 2\n",
        "print(pow(a, b))"
      ],
      "metadata": {
        "colab": {
          "base_uri": "https://localhost:8080/"
        },
        "id": "zt3wLpr4C5Pg",
        "outputId": "4644df08-f953-4905-ed13-ab6ce933f294"
      },
      "execution_count": 15,
      "outputs": [
        {
          "output_type": "stream",
          "name": "stdout",
          "text": [
            "9\n"
          ]
        }
      ]
    }
  ]
}