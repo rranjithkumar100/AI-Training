{
  "nbformat": 4,
  "nbformat_minor": 0,
  "metadata": {
    "colab": {
      "provenance": [],
      "authorship_tag": "ABX9TyPFcq8AJMME5etyMZxzik2m",
      "include_colab_link": true
    },
    "kernelspec": {
      "name": "python3",
      "display_name": "Python 3"
    },
    "language_info": {
      "name": "python"
    }
  },
  "cells": [
    {
      "cell_type": "markdown",
      "metadata": {
        "id": "view-in-github",
        "colab_type": "text"
      },
      "source": [
        "<a href=\"https://colab.research.google.com/github/rranjithkumar100/AI-Training/blob/main/Day_15_User_defined_functions.ipynb\" target=\"_parent\"><img src=\"https://colab.research.google.com/assets/colab-badge.svg\" alt=\"Open In Colab\"/></a>"
      ]
    },
    {
      "cell_type": "code",
      "execution_count": 2,
      "metadata": {
        "colab": {
          "base_uri": "https://localhost:8080/"
        },
        "id": "CEu_28d_DlyV",
        "outputId": "bdd5c031-5b8d-46b3-c7cf-e4691d4c22d3"
      },
      "outputs": [
        {
          "output_type": "stream",
          "name": "stdout",
          "text": [
            "30\n"
          ]
        }
      ],
      "source": [
        "# simple sum function\n",
        "\n",
        "def add(num1, num2):\n",
        "    return num1 + num2\n",
        "\n",
        "\n",
        "sum = add(10, 20)\n",
        "print(sum)"
      ]
    },
    {
      "cell_type": "code",
      "source": [
        "# sum function with float return\n",
        "\n",
        "def add(num1, num2):\n",
        "    return float(num1 + num2)\n",
        "\n",
        "\n",
        "sum = add(10, 20)\n",
        "print(sum)"
      ],
      "metadata": {
        "colab": {
          "base_uri": "https://localhost:8080/"
        },
        "id": "EyemiANvEV6d",
        "outputId": "31215e74-9459-4235-9495-5a2529382594"
      },
      "execution_count": 3,
      "outputs": [
        {
          "output_type": "stream",
          "name": "stdout",
          "text": [
            "30.0\n"
          ]
        }
      ]
    },
    {
      "cell_type": "code",
      "source": [
        "# default values\n",
        "\n",
        "def add(num1, num2=0):\n",
        "    return float(num1 + num2)\n",
        "\n",
        "\n",
        "sum = add(10)\n",
        "print(sum)"
      ],
      "metadata": {
        "colab": {
          "base_uri": "https://localhost:8080/"
        },
        "id": "TSVkHI7TGIJV",
        "outputId": "9055a1cc-725e-471a-a39f-abd7ffa8d5c3"
      },
      "execution_count": 4,
      "outputs": [
        {
          "output_type": "stream",
          "name": "stdout",
          "text": [
            "10.0\n"
          ]
        }
      ]
    },
    {
      "cell_type": "code",
      "source": [
        "# multi line string output\n",
        "\n",
        "def sampleParagraph():\n",
        "  return ''' ranjith kumar is a talented boy 😁\n",
        "  he is excellent in programming\n",
        "  he is good in maths also\n",
        "  but he is not good in cooking 😂\n",
        "  '''\n",
        "\n",
        "print(sampleParagraph())"
      ],
      "metadata": {
        "colab": {
          "base_uri": "https://localhost:8080/"
        },
        "id": "w2C1C3Y8GeC9",
        "outputId": "c9ea1b59-5c61-4482-84d4-9079ea28eb4d"
      },
      "execution_count": 8,
      "outputs": [
        {
          "output_type": "stream",
          "name": "stdout",
          "text": [
            " ranjith kumar is a talented boy 😁\n",
            "  he is excellent in programming\n",
            "  he is good in maths also\n",
            "  but he is not good in cooking 😂\n",
            "  \n"
          ]
        }
      ]
    },
    {
      "cell_type": "code",
      "source": [
        "def sumMarks(tamil, english, maths, science, practical = 85):\n",
        "    print(\"tamil: \", tamil)\n",
        "    print(\"english: \", english)\n",
        "    print(\"maths: \", maths)\n",
        "    print(\"science: \", science)\n",
        "    print(\"practical: \", practical)\n",
        "    return tamil + english + maths + science + practical\n",
        "\n",
        "print(sumMarks(english = 40, tamil = 100, maths = 100, science = 100))\n",
        "\n"
      ],
      "metadata": {
        "colab": {
          "base_uri": "https://localhost:8080/"
        },
        "id": "7dIjh6rlHNIb",
        "outputId": "46200aa1-0595-48d4-ec17-1f50178c3d68"
      },
      "execution_count": 7,
      "outputs": [
        {
          "output_type": "stream",
          "name": "stdout",
          "text": [
            "tamil:  100\n",
            "english:  40\n",
            "maths:  100\n",
            "science:  100\n",
            "practical:  85\n",
            "425\n"
          ]
        }
      ]
    },
    {
      "cell_type": "code",
      "source": [
        "def cubeNumber(num):\n",
        "    return pow(num,3)\n",
        "\n",
        "print(cubeNumber(10))"
      ],
      "metadata": {
        "colab": {
          "base_uri": "https://localhost:8080/"
        },
        "id": "uTmYSYFrI8Tw",
        "outputId": "023fd172-6cc4-4c05-a9af-4c23e04f088e"
      },
      "execution_count": 11,
      "outputs": [
        {
          "output_type": "stream",
          "name": "stdout",
          "text": [
            "1000\n"
          ]
        }
      ]
    },
    {
      "cell_type": "code",
      "source": [
        "#2X^2 + 3Y + 10\n",
        "\n",
        "def calc(x,y):\n",
        "    return pow((2*x),2) + (3*y) +10\n",
        "\n",
        "print(calc(10,2))"
      ],
      "metadata": {
        "colab": {
          "base_uri": "https://localhost:8080/"
        },
        "id": "-AelgG9HJIT6",
        "outputId": "c78de055-5b28-405b-c2ce-9015e2fea8ef"
      },
      "execution_count": 9,
      "outputs": [
        {
          "output_type": "stream",
          "name": "stdout",
          "text": [
            "416\n"
          ]
        }
      ]
    }
  ]
}