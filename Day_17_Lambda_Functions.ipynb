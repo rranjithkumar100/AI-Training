{
  "nbformat": 4,
  "nbformat_minor": 0,
  "metadata": {
    "colab": {
      "provenance": [],
      "toc_visible": true,
      "authorship_tag": "ABX9TyM3OI2+MJ6rAecAVzf4fGb+",
      "include_colab_link": true
    },
    "kernelspec": {
      "name": "python3",
      "display_name": "Python 3"
    },
    "language_info": {
      "name": "python"
    }
  },
  "cells": [
    {
      "cell_type": "markdown",
      "metadata": {
        "id": "view-in-github",
        "colab_type": "text"
      },
      "source": [
        "<a href=\"https://colab.research.google.com/github/rranjithkumar100/AI-Training/blob/main/Day_17_Lambda_Functions.ipynb\" target=\"_parent\"><img src=\"https://colab.research.google.com/assets/colab-badge.svg\" alt=\"Open In Colab\"/></a>"
      ]
    },
    {
      "cell_type": "code",
      "source": [
        "# LAMBDA FUNCTIONS"
      ],
      "metadata": {
        "id": "XcljUNerq4BN"
      },
      "execution_count": null,
      "outputs": []
    },
    {
      "cell_type": "code",
      "execution_count": null,
      "metadata": {
        "colab": {
          "base_uri": "https://localhost:8080/"
        },
        "id": "kJI_MXarmHGZ",
        "outputId": "03fb34d0-2a3a-4469-b466-48fd70e9bedd"
      },
      "outputs": [
        {
          "output_type": "execute_result",
          "data": {
            "text/plain": [
              "1000"
            ]
          },
          "metadata": {},
          "execution_count": 1
        }
      ],
      "source": [
        "qubeValue = lambda a:  pow(a,3)\n",
        "\n",
        "\n",
        "qubeValue(10)"
      ]
    },
    {
      "cell_type": "code",
      "source": [
        "pi = lambda r,p=3.14 : p * pow(r,2)\n",
        "\n"
      ],
      "metadata": {
        "id": "GyplEsR3nRMh"
      },
      "execution_count": null,
      "outputs": []
    },
    {
      "cell_type": "code",
      "source": [
        "pi(3)"
      ],
      "metadata": {
        "colab": {
          "base_uri": "https://localhost:8080/"
        },
        "id": "sJ9C2j93oDLo",
        "outputId": "2ccdd287-e349-4323-ab34-608736710b8c"
      },
      "execution_count": null,
      "outputs": [
        {
          "output_type": "execute_result",
          "data": {
            "text/plain": [
              "28.26"
            ]
          },
          "metadata": {},
          "execution_count": 5
        }
      ]
    },
    {
      "cell_type": "code",
      "source": [
        "ab2ab = lambda a,b : a**2 + b**2 + 2*(a*b)\n",
        "ab2ab(10,2)"
      ],
      "metadata": {
        "colab": {
          "base_uri": "https://localhost:8080/"
        },
        "id": "5Mrdjtg6oae4",
        "outputId": "40a79665-2f9a-4a69-a452-454ff1c5d6b0"
      },
      "execution_count": null,
      "outputs": [
        {
          "output_type": "execute_result",
          "data": {
            "text/plain": [
              "144"
            ]
          },
          "metadata": {},
          "execution_count": 7
        }
      ]
    },
    {
      "cell_type": "code",
      "source": [
        "isEven = lambda a : a%2 == 0\n",
        "isEven(10)"
      ],
      "metadata": {
        "colab": {
          "base_uri": "https://localhost:8080/"
        },
        "id": "SfmVrWNhpBV-",
        "outputId": "61b81176-d787-411b-f2a6-9bf1923a51a1"
      },
      "execution_count": null,
      "outputs": [
        {
          "output_type": "execute_result",
          "data": {
            "text/plain": [
              "True"
            ]
          },
          "metadata": {},
          "execution_count": 8
        }
      ]
    },
    {
      "cell_type": "code",
      "source": [
        "# always return value first then if condition, example a if(a>b)\n",
        "max = lambda a,b :a if(a>b)  else b\n",
        "max(10,20)"
      ],
      "metadata": {
        "colab": {
          "base_uri": "https://localhost:8080/"
        },
        "id": "LfU7lVYkpY4m",
        "outputId": "e3ad9140-06ba-448f-db40-c3ae5eff445b"
      },
      "execution_count": null,
      "outputs": [
        {
          "output_type": "execute_result",
          "data": {
            "text/plain": [
              "20"
            ]
          },
          "metadata": {},
          "execution_count": 12
        }
      ]
    },
    {
      "cell_type": "code",
      "source": [
        "# MAP WITH LAMBDA FUNCTION, ITERATE AND MULTIPLE BY 2\n",
        "\n",
        "data = [1,2,3,4,5]\n",
        "result = list(map(lambda a: a**2,data))\n",
        "print(result)"
      ],
      "metadata": {
        "colab": {
          "base_uri": "https://localhost:8080/"
        },
        "id": "L5DsJfoYt84I",
        "outputId": "73ce3e33-58b4-4b2b-db5b-a89b5f8b8892"
      },
      "execution_count": 13,
      "outputs": [
        {
          "output_type": "stream",
          "name": "stdout",
          "text": [
            "[1, 4, 9, 16, 25]\n"
          ]
        }
      ]
    },
    {
      "cell_type": "code",
      "source": [],
      "metadata": {
        "id": "PJSVp1iTu5z5"
      },
      "execution_count": null,
      "outputs": []
    },
    {
      "cell_type": "code",
      "source": [
        "# Map without lambda\n",
        "data = [1,2,3,4,5]\n",
        "def square(a):\n",
        "    return a**2\n",
        "result = list(map(square,data))\n",
        "print(result)"
      ],
      "metadata": {
        "colab": {
          "base_uri": "https://localhost:8080/"
        },
        "id": "W65sS_ibu52i",
        "outputId": "d81e0959-a4e1-48ca-df1c-5349f7cf2796"
      },
      "execution_count": 14,
      "outputs": [
        {
          "output_type": "stream",
          "name": "stdout",
          "text": [
            "[1, 4, 9, 16, 25]\n"
          ]
        }
      ]
    },
    {
      "cell_type": "code",
      "source": [
        "# filter function with lambda\n",
        "data = [1,2,3,4,5]\n",
        "result = list(filter(lambda a: a%2==0,data))\n",
        "print(result)"
      ],
      "metadata": {
        "colab": {
          "base_uri": "https://localhost:8080/"
        },
        "id": "kkiEAnmzvFRL",
        "outputId": "dc8e2a79-84ee-4ca5-b71b-cd792364870c"
      },
      "execution_count": 15,
      "outputs": [
        {
          "output_type": "stream",
          "name": "stdout",
          "text": [
            "[2, 4]\n"
          ]
        }
      ]
    },
    {
      "cell_type": "code",
      "source": [
        "# reduce function with lambda sum all numbers\n",
        "from functools import reduce\n",
        "data = [1,2,3,4,5]\n",
        "result = reduce(lambda a,b: a+b,data)\n",
        "print(result)\n"
      ],
      "metadata": {
        "colab": {
          "base_uri": "https://localhost:8080/"
        },
        "id": "BFlCrArNvjIN",
        "outputId": "51930b17-a1b6-4e97-d2e7-9dd714197a18"
      },
      "execution_count": 16,
      "outputs": [
        {
          "output_type": "stream",
          "name": "stdout",
          "text": [
            "15\n"
          ]
        }
      ]
    },
    {
      "cell_type": "code",
      "source": [],
      "metadata": {
        "id": "8AJq_HFRwwmy"
      },
      "execution_count": null,
      "outputs": []
    },
    {
      "cell_type": "markdown",
      "source": [],
      "metadata": {
        "id": "CsWWQKQQtzhw"
      }
    }
  ]
}