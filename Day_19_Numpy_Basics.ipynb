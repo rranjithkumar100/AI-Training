{
  "nbformat": 4,
  "nbformat_minor": 0,
  "metadata": {
    "colab": {
      "provenance": [],
      "authorship_tag": "ABX9TyP0Ro+W4RoHmxxaD4w5XPaA",
      "include_colab_link": true
    },
    "kernelspec": {
      "name": "python3",
      "display_name": "Python 3"
    },
    "language_info": {
      "name": "python"
    }
  },
  "cells": [
    {
      "cell_type": "markdown",
      "metadata": {
        "id": "view-in-github",
        "colab_type": "text"
      },
      "source": [
        "<a href=\"https://colab.research.google.com/github/rranjithkumar100/AI-Training/blob/main/Day20_Numpy.ipynb\" target=\"_parent\"><img src=\"https://colab.research.google.com/assets/colab-badge.svg\" alt=\"Open In Colab\"/></a>"
      ]
    },
    {
      "cell_type": "code",
      "execution_count": 14,
      "metadata": {
        "colab": {
          "base_uri": "https://localhost:8080/"
        },
        "id": "sChPPSv3vTwO",
        "outputId": "46d7ff7c-9281-41ae-ec59-141a99efdf7f"
      },
      "outputs": [
        {
          "output_type": "stream",
          "name": "stdout",
          "text": [
            "[1 2 3 4 5]\n",
            "Dimension: 1\n"
          ]
        }
      ],
      "source": [
        "import numpy as np\n",
        "\n",
        "# scalar - not suitable for data process\n",
        "my1DArray = np.array([1,2,3,4,5])\n",
        "print(my1DArray)\n",
        "print(\"Dimension: \"+ str(my1DArray.ndim))"
      ]
    },
    {
      "cell_type": "code",
      "source": [
        "# vector - 2 dimension\n",
        "my2DArray = np.array([[1,2,3,4,5],[1,2,3,4,5]])\n",
        "print(my2DArray)\n",
        "print(\"Dimension: \"+ str(my2DArray.ndim))"
      ],
      "metadata": {
        "colab": {
          "base_uri": "https://localhost:8080/"
        },
        "id": "xcXjt6Mf2J-f",
        "outputId": "a6d8e6d9-cc11-4de4-8216-a7125f712148"
      },
      "execution_count": 11,
      "outputs": [
        {
          "output_type": "stream",
          "name": "stdout",
          "text": [
            "[[1 2 3 4 5]\n",
            " [1 2 3 4 5]]\n",
            "Dimension: 2\n"
          ]
        }
      ]
    },
    {
      "cell_type": "code",
      "source": [
        "my3DArray = np.array([[[1,2,3,4,5],[1,2,3,4,5]],[[1,2,3,4,5],[1,2,3,4,5]]])\n",
        "print(my3DArray)\n",
        "print(\"Dimension: \"+ str(my3DArray.ndim))"
      ],
      "metadata": {
        "colab": {
          "base_uri": "https://localhost:8080/"
        },
        "id": "Iff3xJLx2Vr0",
        "outputId": "7919426c-02c6-41c3-b655-164aeb89aa2b"
      },
      "execution_count": 13,
      "outputs": [
        {
          "output_type": "stream",
          "name": "stdout",
          "text": [
            "[[[1 2 3 4 5]\n",
            "  [1 2 3 4 5]]\n",
            "\n",
            " [[1 2 3 4 5]\n",
            "  [1 2 3 4 5]]]\n",
            "Dimension: 3\n"
          ]
        }
      ]
    },
    {
      "cell_type": "code",
      "source": [
        "# arrange function\n",
        "\n",
        "print(np.arange(10)) # zero to 10\n",
        "print(np.arange(1,10)) # start to end (1 to 10)\n",
        "print(np.arange(1,100,5)) # start to end with step (1 to 100 increase 5 by 5)"
      ],
      "metadata": {
        "colab": {
          "base_uri": "https://localhost:8080/"
        },
        "id": "PgWNQe184T8H",
        "outputId": "0db3dda9-7f7e-41f1-86a6-739546a6de56"
      },
      "execution_count": 16,
      "outputs": [
        {
          "output_type": "stream",
          "name": "stdout",
          "text": [
            "[0 1 2 3 4 5 6 7 8 9]\n",
            "[1 2 3 4 5 6 7 8 9]\n",
            "[ 1  6 11 16 21 26 31 36 41 46 51 56 61 66 71 76 81 86 91 96]\n"
          ]
        }
      ]
    },
    {
      "cell_type": "code",
      "source": [
        "# line space random number\n",
        "\n",
        "a = np.linspace(1,10,10)\n",
        "print(a)"
      ],
      "metadata": {
        "colab": {
          "base_uri": "https://localhost:8080/"
        },
        "id": "ehVIKuYw5onD",
        "outputId": "0008cf05-61e4-4db5-a0ba-57c0d1a9937d"
      },
      "execution_count": 17,
      "outputs": [
        {
          "output_type": "stream",
          "name": "stdout",
          "text": [
            "[ 1.  2.  3.  4.  5.  6.  7.  8.  9. 10.]\n"
          ]
        }
      ]
    },
    {
      "cell_type": "code",
      "source": [
        "b = np.linspace(1,10,5)\n",
        "print(b)"
      ],
      "metadata": {
        "colab": {
          "base_uri": "https://localhost:8080/"
        },
        "id": "44Bdvg7o5uMa",
        "outputId": "750e1ced-106a-46da-a17f-34efb114047c"
      },
      "execution_count": 18,
      "outputs": [
        {
          "output_type": "stream",
          "name": "stdout",
          "text": [
            "[ 1.    3.25  5.5   7.75 10.  ]\n"
          ]
        }
      ]
    },
    {
      "cell_type": "code",
      "source": [
        "c = np.linspace(1,10,20)\n",
        "print(c)"
      ],
      "metadata": {
        "colab": {
          "base_uri": "https://localhost:8080/"
        },
        "id": "RcUqfCE85-j5",
        "outputId": "4d3df821-b868-4bd3-cc69-df6b44901747"
      },
      "execution_count": 19,
      "outputs": [
        {
          "output_type": "stream",
          "name": "stdout",
          "text": [
            "[ 1.          1.47368421  1.94736842  2.42105263  2.89473684  3.36842105\n",
            "  3.84210526  4.31578947  4.78947368  5.26315789  5.73684211  6.21052632\n",
            "  6.68421053  7.15789474  7.63157895  8.10526316  8.57894737  9.05263158\n",
            "  9.52631579 10.        ]\n"
          ]
        }
      ]
    },
    {
      "cell_type": "code",
      "source": [
        "# random int with 4*4 matrix\n",
        "d = np.random.randint(1,10,(4,4))\n",
        "print(d)"
      ],
      "metadata": {
        "colab": {
          "base_uri": "https://localhost:8080/"
        },
        "id": "8sFzmmtO6LfA",
        "outputId": "88927280-42a6-4505-bcbb-0edadafa1e8a"
      },
      "execution_count": 20,
      "outputs": [
        {
          "output_type": "stream",
          "name": "stdout",
          "text": [
            "[[3 6 9 9]\n",
            " [1 8 6 5]\n",
            " [7 7 5 5]\n",
            " [2 4 1 8]]\n"
          ]
        }
      ]
    },
    {
      "cell_type": "code",
      "source": [
        "e = np.random.randint(1000, size=(4,4), dtype = np.int16)\n",
        "print(e)"
      ],
      "metadata": {
        "colab": {
          "base_uri": "https://localhost:8080/"
        },
        "id": "WbHaZdOo6Yif",
        "outputId": "fae7ef4f-7539-421f-f2dc-69d7f60eb8e7"
      },
      "execution_count": 21,
      "outputs": [
        {
          "output_type": "stream",
          "name": "stdout",
          "text": [
            "[[173 227 285 817]\n",
            " [ 41 222 935 458]\n",
            " [360 312 931 692]\n",
            " [648 284 909 136]]\n"
          ]
        }
      ]
    },
    {
      "cell_type": "code",
      "source": [
        "f = np.random.randint(1000,2000, 30)\n",
        "print(f)"
      ],
      "metadata": {
        "colab": {
          "base_uri": "https://localhost:8080/"
        },
        "id": "nz-Dtfal6uTD",
        "outputId": "66f3e7a7-15bc-40db-9976-4922f94761eb"
      },
      "execution_count": 24,
      "outputs": [
        {
          "output_type": "stream",
          "name": "stdout",
          "text": [
            "[1491 1764 1874 1789 1099 1388 1603 1351 1078 1578 1889 1932 1613 1705\n",
            " 1652 1629 1030 1738 1277 1656 1932 1329 1230 1122 1788 1081 1601 1168\n",
            " 1941 1773]\n"
          ]
        }
      ]
    },
    {
      "cell_type": "code",
      "source": [
        "# slicing the 2d data\n",
        "\n",
        "my2dArray = np.array([[1,2,3,4,5],[6,7,8,9,10]])\n",
        "print(my2dArray)\n",
        "\n",
        "my2dArray[0:2,0:2]\n"
      ],
      "metadata": {
        "colab": {
          "base_uri": "https://localhost:8080/"
        },
        "id": "WW3PYuyo7Pic",
        "outputId": "4a57accd-6358-4723-becd-80ec5571d501"
      },
      "execution_count": 26,
      "outputs": [
        {
          "output_type": "stream",
          "name": "stdout",
          "text": [
            "[[ 1  2  3  4  5]\n",
            " [ 6  7  8  9 10]]\n"
          ]
        },
        {
          "output_type": "execute_result",
          "data": {
            "text/plain": [
              "array([[1, 2],\n",
              "       [6, 7]])"
            ]
          },
          "metadata": {},
          "execution_count": 26
        }
      ]
    },
    {
      "cell_type": "code",
      "source": [
        "# slicing 3d array\n",
        "\n",
        "my3dArray = np.array([[[1,2,3,4,5],[6,7,8,9,10]],[[11,12,13,14,15],[16,17,18,19,20]]])\n",
        "print(my3dArray)\n",
        "\n",
        "my3dArray[0:2,0:2,0:2]"
      ],
      "metadata": {
        "colab": {
          "base_uri": "https://localhost:8080/"
        },
        "id": "QujWXUjY7gks",
        "outputId": "d92f2b54-29b3-47ba-ed23-1624c042ec30"
      },
      "execution_count": 27,
      "outputs": [
        {
          "output_type": "stream",
          "name": "stdout",
          "text": [
            "[[[ 1  2  3  4  5]\n",
            "  [ 6  7  8  9 10]]\n",
            "\n",
            " [[11 12 13 14 15]\n",
            "  [16 17 18 19 20]]]\n"
          ]
        },
        {
          "output_type": "execute_result",
          "data": {
            "text/plain": [
              "array([[[ 1,  2],\n",
              "        [ 6,  7]],\n",
              "\n",
              "       [[11, 12],\n",
              "        [16, 17]]])"
            ]
          },
          "metadata": {},
          "execution_count": 27
        }
      ]
    },
    {
      "cell_type": "code",
      "source": [
        "# empty array\n",
        "\n",
        "emptyArray = np.empty((3,2),dtype = np.int32)\n",
        "print(emptyArray)"
      ],
      "metadata": {
        "colab": {
          "base_uri": "https://localhost:8080/"
        },
        "id": "i96ivt-A9owL",
        "outputId": "df808acc-ff9f-429b-b315-a6a579658e39"
      },
      "execution_count": 33,
      "outputs": [
        {
          "output_type": "stream",
          "name": "stdout",
          "text": [
            "[[         0          0]\n",
            " [         0 1071644672]\n",
            " [         0 1072693248]]\n"
          ]
        }
      ]
    }
  ]
}
