{
  "nbformat": 4,
  "nbformat_minor": 0,
  "metadata": {
    "colab": {
      "provenance": [],
      "authorship_tag": "ABX9TyNn8bUrdP7zCMmTKTpHfZQN",
      "include_colab_link": true
    },
    "kernelspec": {
      "name": "python3",
      "display_name": "Python 3"
    },
    "language_info": {
      "name": "python"
    }
  },
  "cells": [
    {
      "cell_type": "markdown",
      "metadata": {
        "id": "view-in-github",
        "colab_type": "text"
      },
      "source": [
        "<a href=\"https://colab.research.google.com/github/rranjithkumar100/AI-Training/blob/main/Day_1_Shop_Billing_system_python_program.ipynb\" target=\"_parent\"><img src=\"https://colab.research.google.com/assets/colab-badge.svg\" alt=\"Open In Colab\"/></a>"
      ]
    },
    {
      "cell_type": "code",
      "source": [
        "import datetime\n"
      ],
      "metadata": {
        "id": "-vXa51e_tnAq"
      },
      "execution_count": 24,
      "outputs": []
    },
    {
      "cell_type": "code",
      "execution_count": 17,
      "metadata": {
        "id": "JyeSJH7tqoGa"
      },
      "outputs": [],
      "source": [
        "#PRODUCTS PRICE\n",
        "iceCreamPrice = 10\n",
        "chocolatePrice = 5\n",
        "cakePrice = 15"
      ]
    },
    {
      "cell_type": "code",
      "source": [
        "#TAX\n",
        "vat = 0.15"
      ],
      "metadata": {
        "id": "nr3MLwR9rHDJ"
      },
      "execution_count": 8,
      "outputs": []
    },
    {
      "cell_type": "code",
      "source": [
        "try:\n",
        "    totalIceCream = int(input(\"How many ice creams do you want? \"))\n",
        "except ValueError:\n",
        "    print(\"Please enter a valid number.\")"
      ],
      "metadata": {
        "colab": {
          "base_uri": "https://localhost:8080/"
        },
        "id": "3_i-6b5UrJV_",
        "outputId": "5ed790e4-7a87-41a1-d674-f3c681f686a7"
      },
      "execution_count": 31,
      "outputs": [
        {
          "name": "stdout",
          "output_type": "stream",
          "text": [
            "How many ice creams do you want? 3\n"
          ]
        }
      ]
    },
    {
      "cell_type": "code",
      "source": [
        "try:\n",
        "    totalChocolate = int(input(\"How many chocolates do you want? \"))\n",
        "except ValueError:\n",
        "    print(\"Please enter a valid number.\")"
      ],
      "metadata": {
        "colab": {
          "base_uri": "https://localhost:8080/"
        },
        "id": "PQJQxr6urMKa",
        "outputId": "9c5cb237-68c0-444e-bb9a-71cb8024f6d0"
      },
      "execution_count": 14,
      "outputs": [
        {
          "name": "stdout",
          "output_type": "stream",
          "text": [
            "How many chocolate do you want? 1\n"
          ]
        }
      ]
    },
    {
      "cell_type": "code",
      "source": [
        "try:\n",
        "    totalCake = int(input(\"How many cakes do you want? \"))\n",
        "except ValueError:\n",
        "    print(\"Please enter a valid number.\")"
      ],
      "metadata": {
        "colab": {
          "base_uri": "https://localhost:8080/"
        },
        "id": "E9H8oZ9jrRUs",
        "outputId": "cab106bb-417c-48cd-bf74-41c61b0f2368"
      },
      "execution_count": 16,
      "outputs": [
        {
          "name": "stdout",
          "output_type": "stream",
          "text": [
            "How many cakes do you want? 6\n"
          ]
        }
      ]
    },
    {
      "cell_type": "code",
      "source": [
        "totalBillAmountWithoutVat = (iceCreamPrice * totalIceCream) + (chocolatePrice * totalChocolate) + (cakePrice * totalCake)"
      ],
      "metadata": {
        "id": "Cck1LBqdsgxi"
      },
      "execution_count": 18,
      "outputs": []
    },
    {
      "cell_type": "code",
      "source": [
        "vatAmount = totalBillAmountWithoutVat * vat"
      ],
      "metadata": {
        "id": "ao2JpzeYs3mE"
      },
      "execution_count": 19,
      "outputs": []
    },
    {
      "cell_type": "code",
      "source": [
        "totalWithVat = totalBillAmountWithoutVat + vatAmount"
      ],
      "metadata": {
        "id": "kjplD7NNs8V2"
      },
      "execution_count": 20,
      "outputs": []
    },
    {
      "cell_type": "code",
      "source": [
        "#PRINT THE BILL (All the selected products with qty and total for each item and total, date/time, shop name)\n",
        "\n",
        "print(\"---------------------------------------\")\n",
        "print(\"RANJITH ICE CREAM SHOP\")\n",
        "print(\"---------------------------------------\")\n",
        "print(\"Date/Time: \", datetime.datetime.now())\n",
        "print(\"---------------------------------------\")\n",
        "print(\"Ice Cream: \" + str(totalIceCream) + \" x \" + str(iceCreamPrice) + \" = \" + str(iceCreamPrice * totalIceCream))\n",
        "print(\"Chocolate: \"+ str(totalChocolate) + \" x \" + str(chocolatePrice) + \" = \" + str(chocolatePrice * totalChocolate))\n",
        "print(\"Cake: \" + str(totalCake) + \" x \" + str(cakePrice) + \" = \" + str(cakePrice * totalCake))\n",
        "print(\"---------------------------------------\")\n",
        "print(\"Total: \" + str(totalBillAmountWithoutVat))\n",
        "print(\"Vat: \" + str(vatAmount))\n",
        "print(\"Total with Vat: \" + str(totalWithVat))\n",
        "print(\"---------------------------------------\")\n",
        "print(\"Thank you for shopping with us!\")\n",
        "print(\"---------------------------------------\")\n",
        "\n"
      ],
      "metadata": {
        "colab": {
          "base_uri": "https://localhost:8080/"
        },
        "id": "jqr31km9tC3O",
        "outputId": "93285d66-aaa4-4d3b-9deb-2fa7c6a3e5dc"
      },
      "execution_count": 32,
      "outputs": [
        {
          "output_type": "stream",
          "name": "stdout",
          "text": [
            "---------------------------------------\n",
            "RANJITH ICE CREAM SHOP\n",
            "---------------------------------------\n",
            "Date/Time:  2024-10-22 05:40:20.024963\n",
            "---------------------------------------\n",
            "Ice Cream: 3 x 10 = 30\n",
            "Chocolate: 1 x 5 = 5\n",
            "Cake: 6 x 15 = 90\n",
            "---------------------------------------\n",
            "Total: 105\n",
            "Vat: 15.75\n",
            "Total with Vat: 120.75\n",
            "---------------------------------------\n",
            "Thank you for shopping with us!\n",
            "---------------------------------------\n"
          ]
        }
      ]
    },
    {
      "cell_type": "code",
      "source": [],
      "metadata": {
        "id": "MO0xChEgtFFP"
      },
      "execution_count": null,
      "outputs": []
    }
  ]
}