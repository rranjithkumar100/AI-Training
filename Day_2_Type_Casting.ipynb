{
  "nbformat": 4,
  "nbformat_minor": 0,
  "metadata": {
    "colab": {
      "provenance": [],
      "authorship_tag": "ABX9TyOpoRGQERs/u0HEYRvm+Gp+",
      "include_colab_link": true
    },
    "kernelspec": {
      "name": "python3",
      "display_name": "Python 3"
    },
    "language_info": {
      "name": "python"
    }
  },
  "cells": [
    {
      "cell_type": "markdown",
      "metadata": {
        "id": "view-in-github",
        "colab_type": "text"
      },
      "source": [
        "<a href=\"https://colab.research.google.com/github/rranjithkumar100/AI-Training/blob/main/Day_2_Type_Casting.ipynb\" target=\"_parent\"><img src=\"https://colab.research.google.com/assets/colab-badge.svg\" alt=\"Open In Colab\"/></a>"
      ]
    },
    {
      "cell_type": "code",
      "execution_count": 3,
      "metadata": {
        "colab": {
          "base_uri": "https://localhost:8080/"
        },
        "id": "Fnrx8YBsIe9c",
        "outputId": "ac23c99e-a07b-446c-a6d1-4cc5c15a3b5b"
      },
      "outputs": [
        {
          "output_type": "stream",
          "name": "stdout",
          "text": [
            "<class 'str'>\n",
            "<class 'int'>\n"
          ]
        }
      ],
      "source": [
        "# String to Int\n",
        "\n",
        "salaryStr = '10000'\n",
        "print(type(salaryStr))\n",
        "\n",
        "salary = int(salaryStr)\n",
        "print(type(salary))\n"
      ]
    },
    {
      "cell_type": "code",
      "source": [
        "#String to Float\n",
        "\n",
        "salaryStr = '10000.00'\n",
        "print(type(salaryStr))\n",
        "\n",
        "salary = float(salaryStr)\n",
        "print(type(salary))\n",
        "print(salary)"
      ],
      "metadata": {
        "colab": {
          "base_uri": "https://localhost:8080/"
        },
        "id": "_0X4qON_KU-f",
        "outputId": "3537be7b-793c-4af4-a469-f9735c085e68"
      },
      "execution_count": 9,
      "outputs": [
        {
          "output_type": "stream",
          "name": "stdout",
          "text": [
            "<class 'str'>\n",
            "<class 'float'>\n",
            "10000.0\n"
          ]
        }
      ]
    },
    {
      "cell_type": "code",
      "source": [
        "\n",
        "#Float to Int\n",
        "billAmount = 10.002\n",
        "print(type(billAmount))\n",
        "\n",
        "billAmountInt = int(billAmount)\n",
        "print(type(billAmountInt))\n",
        "print(billAmountInt)"
      ],
      "metadata": {
        "colab": {
          "base_uri": "https://localhost:8080/"
        },
        "id": "oh9QVv_zJOjz",
        "outputId": "807abff9-8d54-4eea-9f46-163257d1a013"
      },
      "execution_count": 4,
      "outputs": [
        {
          "output_type": "stream",
          "name": "stdout",
          "text": [
            "<class 'float'>\n",
            "<class 'int'>\n",
            "10\n"
          ]
        }
      ]
    },
    {
      "cell_type": "code",
      "source": [],
      "metadata": {
        "id": "BnS2jB4IKL7C"
      },
      "execution_count": null,
      "outputs": []
    },
    {
      "cell_type": "code",
      "source": [
        "\n",
        "#Int to Float\n",
        "billAmount = 10\n",
        "print(type(billAmount))\n",
        "\n",
        "billAmountFloat = float(billAmount)\n",
        "print(type(billAmountFloat))\n",
        "print(billAmountFloat)"
      ],
      "metadata": {
        "colab": {
          "base_uri": "https://localhost:8080/"
        },
        "id": "iwMjBSwGJMDB",
        "outputId": "6332d4ba-ab55-4d48-ce7d-32489f56bc43"
      },
      "execution_count": 5,
      "outputs": [
        {
          "output_type": "stream",
          "name": "stdout",
          "text": [
            "<class 'int'>\n",
            "<class 'float'>\n",
            "10.0\n"
          ]
        }
      ]
    },
    {
      "cell_type": "code",
      "source": [
        "#Int to String\n",
        "\n",
        "billAmount = 10\n",
        "print(type(billAmount))\n",
        "\n",
        "billAmountStr = str(billAmount)\n",
        "print(type(billAmountStr))\n",
        "print(billAmountStr)"
      ],
      "metadata": {
        "colab": {
          "base_uri": "https://localhost:8080/"
        },
        "id": "ZJOdsUsXJR0Z",
        "outputId": "bbd4cb07-f183-4bf3-dd82-16c8b3f921ff"
      },
      "execution_count": 6,
      "outputs": [
        {
          "output_type": "stream",
          "name": "stdout",
          "text": [
            "<class 'int'>\n",
            "<class 'str'>\n",
            "10\n"
          ]
        }
      ]
    },
    {
      "cell_type": "code",
      "source": [
        "#  User input to Int\n",
        "\n",
        "user_input_age = input(\"Enter your age: \")\n",
        "\n",
        "age = int(user_input_age)\n",
        "\n",
        "# Add 5 years to the age\n",
        "age_in_5_years = age + 5\n",
        "\n",
        "print(f\"In 5 years, you will be {age_in_5_years} years old.\")"
      ],
      "metadata": {
        "colab": {
          "base_uri": "https://localhost:8080/"
        },
        "id": "iFguIh74JY1V",
        "outputId": "0954a905-6580-4ed4-bc87-67380018176e"
      },
      "execution_count": 7,
      "outputs": [
        {
          "output_type": "stream",
          "name": "stdout",
          "text": [
            "Enter your age: 20\n",
            "In 5 years, you will be 25 years old.\n"
          ]
        }
      ]
    }
  ]
}