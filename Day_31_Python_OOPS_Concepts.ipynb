{
  "nbformat": 4,
  "nbformat_minor": 0,
  "metadata": {
    "colab": {
      "provenance": [],
      "authorship_tag": "ABX9TyOroCznPNU2dRwdf5MW1aR0",
      "include_colab_link": true
    },
    "kernelspec": {
      "name": "python3",
      "display_name": "Python 3"
    },
    "language_info": {
      "name": "python"
    }
  },
  "cells": [
    {
      "cell_type": "markdown",
      "metadata": {
        "id": "view-in-github",
        "colab_type": "text"
      },
      "source": [
        "<a href=\"https://colab.research.google.com/github/rranjithkumar100/AI-Training/blob/main/Day_31_Python_OOPS_Concepts.ipynb\" target=\"_parent\"><img src=\"https://colab.research.google.com/assets/colab-badge.svg\" alt=\"Open In Colab\"/></a>"
      ]
    },
    {
      "cell_type": "markdown",
      "source": [
        "# Class and Constructor"
      ],
      "metadata": {
        "id": "s5f4_OhXPmEM"
      }
    },
    {
      "cell_type": "code",
      "execution_count": null,
      "metadata": {
        "id": "iIzUdF1E3Jl0"
      },
      "outputs": [],
      "source": [
        "class Engine:\n",
        "  name = None\n",
        "  year = None\n",
        "  capacity = None\n",
        "  manufacturer = None\n",
        "\n",
        "  def __init__(self, name, year, capacity, manufacturer):\n",
        "    self.name = name\n",
        "    self.year = year\n",
        "    self.capacity = capacity\n",
        "    self.manufacturer = manufacturer\n",
        "\n",
        "\n",
        "#print all engine details in a function with label\n",
        "  def printEngineDetails(self):\n",
        "    print(f\"Name: {self.name}, Year: {self.year}, Capacity: {self.capacity}, Manufacturer: {self.manufacturer}\")\n",
        "\n"
      ]
    },
    {
      "cell_type": "markdown",
      "source": [
        "# Objects"
      ],
      "metadata": {
        "id": "QmkHxe9fFeBk"
      }
    },
    {
      "cell_type": "code",
      "source": [
        "# add tata car engine\n",
        "tataCarEngine = Engine(name=\"Nexon car engine\",year=\"2025\", capacity=\"1199 CC\", manufacturer=\"TATA\")\n",
        "tataCarEngine.printEngineDetails()"
      ],
      "metadata": {
        "colab": {
          "base_uri": "https://localhost:8080/"
        },
        "id": "PJhWtXFXASeH",
        "outputId": "05b11f4f-1404-400a-cb43-2f93ed438862"
      },
      "execution_count": null,
      "outputs": [
        {
          "output_type": "stream",
          "name": "stdout",
          "text": [
            "Name: Nexon car engine, Year: 2025, Capacity: 1199 CC, Manufacturer: TATA\n"
          ]
        }
      ]
    },
    {
      "cell_type": "code",
      "source": [
        "# add hundai car engine\n",
        "hundaiCarEngine = Engine(name=\"Hundai car engine\",year=\"2024\", capacity=\"900 CC\", manufacturer=\"Hundai\")\n",
        "hundaiCarEngine.printEngineDetails()"
      ],
      "metadata": {
        "colab": {
          "base_uri": "https://localhost:8080/"
        },
        "id": "rcBgN_D2AZ6a",
        "outputId": "6321b71f-cd83-4420-93a9-d9d14b7e543b"
      },
      "execution_count": null,
      "outputs": [
        {
          "output_type": "stream",
          "name": "stdout",
          "text": [
            "Name: Hundai car engine, Year: 2024, Capacity: 900 CC, Manufacturer: Hundai\n"
          ]
        }
      ]
    },
    {
      "cell_type": "code",
      "source": [],
      "metadata": {
        "id": "dQUzNaW0jJHq"
      },
      "execution_count": null,
      "outputs": []
    }
  ]
}