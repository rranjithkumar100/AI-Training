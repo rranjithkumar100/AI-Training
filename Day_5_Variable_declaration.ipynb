{
  "nbformat": 4,
  "nbformat_minor": 0,
  "metadata": {
    "colab": {
      "provenance": [],
      "authorship_tag": "ABX9TyNgkho4oN3keZb24/EbuRJ2",
      "include_colab_link": true
    },
    "kernelspec": {
      "name": "python3",
      "display_name": "Python 3"
    },
    "language_info": {
      "name": "python"
    }
  },
  "cells": [
    {
      "cell_type": "markdown",
      "metadata": {
        "id": "view-in-github",
        "colab_type": "text"
      },
      "source": [
        "<a href=\"https://colab.research.google.com/github/rranjithkumar100/AI-Training/blob/main/Day_5_Variable_declaration.ipynb\" target=\"_parent\"><img src=\"https://colab.research.google.com/assets/colab-badge.svg\" alt=\"Open In Colab\"/></a>"
      ]
    },
    {
      "cell_type": "code",
      "execution_count": 1,
      "metadata": {
        "colab": {
          "base_uri": "https://localhost:8080/"
        },
        "id": "XE8cYS9RjlZl",
        "outputId": "4955d5d6-e009-457e-881d-9d2ec7daefd8"
      },
      "outputs": [
        {
          "output_type": "stream",
          "name": "stdout",
          "text": [
            "Ranjith\n",
            "Ranjith\n",
            "3\n",
            "3.3\n",
            "True\n"
          ]
        }
      ],
      "source": [
        "# types of variable declaration\n",
        "\n",
        "name = \"Ranjith\"\n",
        "nameSingleQuote = 'Ranjith'\n",
        "number = 3\n",
        "decimalNumber = 3.3\n",
        "boolType = True\n",
        "print(name)\n",
        "print(nameSingleQuote)\n",
        "print(number)\n",
        "print(decimalNumber)\n",
        "print(boolType)\n"
      ]
    },
    {
      "cell_type": "code",
      "source": [
        "# global variable declaration\n",
        "\n",
        "globalName = \"Ranjith\"\n",
        "print(globalName)\n",
        "\n",
        "\n",
        "def printName():\n",
        "    print(globalName)"
      ],
      "metadata": {
        "colab": {
          "base_uri": "https://localhost:8080/"
        },
        "id": "QGxJutcAkkeA",
        "outputId": "d623ea69-1b93-4b54-f949-fe47e50c92a3"
      },
      "execution_count": 2,
      "outputs": [
        {
          "output_type": "stream",
          "name": "stdout",
          "text": [
            "Ranjith\n"
          ]
        }
      ]
    },
    {
      "cell_type": "code",
      "source": [
        "# multiple variable declaration\n",
        "\n",
        "a, b, c = 1, 2, 3\n",
        "print(a)\n",
        "print(b)\n",
        "print(c)"
      ],
      "metadata": {
        "colab": {
          "base_uri": "https://localhost:8080/"
        },
        "id": "L2iOJe4Fk05Z",
        "outputId": "1564fa71-1166-447a-88fc-11896e201b61"
      },
      "execution_count": 3,
      "outputs": [
        {
          "output_type": "stream",
          "name": "stdout",
          "text": [
            "1\n",
            "2\n",
            "3\n"
          ]
        }
      ]
    },
    {
      "cell_type": "code",
      "source": [
        "# assign same value for multiple varaibles\n",
        "\n",
        "a = b = c = 1\n",
        "print(a)\n",
        "print(b)\n",
        "print(c)"
      ],
      "metadata": {
        "colab": {
          "base_uri": "https://localhost:8080/"
        },
        "id": "TOziELsik9DM",
        "outputId": "965ce307-51a6-4665-d6f7-b1b2c727567a"
      },
      "execution_count": 4,
      "outputs": [
        {
          "output_type": "stream",
          "name": "stdout",
          "text": [
            "1\n",
            "1\n",
            "1\n"
          ]
        }
      ]
    },
    {
      "cell_type": "code",
      "source": [
        "# unpack collections\n",
        "\n",
        "fruits = [\"apple\", \"banana\", \"cherry\"]\n",
        "x, y, z = fruits\n",
        "print(x)\n",
        "print(y)\n",
        "print(z)"
      ],
      "metadata": {
        "colab": {
          "base_uri": "https://localhost:8080/"
        },
        "id": "RI2c6fR2lNkK",
        "outputId": "b4dc5ea4-848d-4f14-bb63-caa8bfbf798b"
      },
      "execution_count": 5,
      "outputs": [
        {
          "output_type": "stream",
          "name": "stdout",
          "text": [
            "apple\n",
            "banana\n",
            "cherry\n"
          ]
        }
      ]
    }
  ]
}