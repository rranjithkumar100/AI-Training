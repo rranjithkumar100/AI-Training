{
  "nbformat": 4,
  "nbformat_minor": 0,
  "metadata": {
    "colab": {
      "provenance": [],
      "authorship_tag": "ABX9TyPRXBLk6cobUY0B2k8sXOtD",
      "include_colab_link": true
    },
    "kernelspec": {
      "name": "python3",
      "display_name": "Python 3"
    },
    "language_info": {
      "name": "python"
    }
  },
  "cells": [
    {
      "cell_type": "markdown",
      "metadata": {
        "id": "view-in-github",
        "colab_type": "text"
      },
      "source": [
        "<a href=\"https://colab.research.google.com/github/rranjithkumar100/AI-Training/blob/main/Day_9_Tuple.ipynb\" target=\"_parent\"><img src=\"https://colab.research.google.com/assets/colab-badge.svg\" alt=\"Open In Colab\"/></a>"
      ]
    },
    {
      "cell_type": "code",
      "execution_count": 2,
      "metadata": {
        "colab": {
          "base_uri": "https://localhost:8080/"
        },
        "id": "_PmdRXWYAaCy",
        "outputId": "359b3b4f-8ae4-47cf-8764-99d3bdb6fd97"
      },
      "outputs": [
        {
          "output_type": "stream",
          "name": "stdout",
          "text": [
            "('Max', 28, 'New York')\n",
            "Max\n",
            "Max\n",
            "28\n",
            "New York\n",
            "<class 'tuple'>\n"
          ]
        }
      ],
      "source": [
        "myTuple = (\"Max\", 28, \"New York\")\n",
        "print(myTuple)\n",
        "\n",
        "item = myTuple[0]\n",
        "print(item)\n",
        "\n",
        "for i in myTuple:\n",
        "    print(i)\n",
        "\n",
        "print(type(myTuple))"
      ]
    },
    {
      "cell_type": "code",
      "source": [
        "# single data not consider as a tuple, until you put a comma\n",
        "invalidTuple = (\"Max\")\n",
        "print(type(invalidTuple)) # string, not tuple"
      ],
      "metadata": {
        "colab": {
          "base_uri": "https://localhost:8080/"
        },
        "id": "S9JFVuKMClbb",
        "outputId": "6a6a5b7b-4d5d-4ccb-da5b-ed233c60f9de"
      },
      "execution_count": 7,
      "outputs": [
        {
          "output_type": "stream",
          "name": "stdout",
          "text": [
            "<class 'str'>\n"
          ]
        }
      ]
    },
    {
      "cell_type": "code",
      "source": [
        "# put comma at the end, compiler will understand this is tuple\n",
        "validTuple = (\"Max\",)\n",
        "print(type(validTuple))"
      ],
      "metadata": {
        "colab": {
          "base_uri": "https://localhost:8080/"
        },
        "id": "McPbZn4kCt_E",
        "outputId": "56ed5b5d-c9e8-4e36-dfc0-b7a941b57a6f"
      },
      "execution_count": 5,
      "outputs": [
        {
          "output_type": "stream",
          "name": "stdout",
          "text": [
            "<class 'tuple'>\n"
          ]
        }
      ]
    },
    {
      "cell_type": "code",
      "source": [
        "# count the elements\n",
        "myTuple = (\"a\", \"p\", \"p\", \"l\", \"e\")\n",
        "print(myTuple.count(\"p\"))"
      ],
      "metadata": {
        "colab": {
          "base_uri": "https://localhost:8080/"
        },
        "id": "gMQUA1fkCyHd",
        "outputId": "8d873a57-45d3-4786-d447-f5b509d620bd"
      },
      "execution_count": 8,
      "outputs": [
        {
          "output_type": "stream",
          "name": "stdout",
          "text": [
            "2\n"
          ]
        }
      ]
    },
    {
      "cell_type": "code",
      "source": [
        "# total count\n",
        "print(len(myTuple))"
      ],
      "metadata": {
        "colab": {
          "base_uri": "https://localhost:8080/"
        },
        "id": "4mQhVfMnDNzU",
        "outputId": "bc62ebec-0844-4e35-e385-838c03f2ede3"
      },
      "execution_count": 9,
      "outputs": [
        {
          "output_type": "stream",
          "name": "stdout",
          "text": [
            "5\n"
          ]
        }
      ]
    }
  ]
}